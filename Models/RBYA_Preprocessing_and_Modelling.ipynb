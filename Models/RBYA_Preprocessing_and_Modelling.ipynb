{
 "cells": [
  {
   "cell_type": "code",
   "execution_count": 83,
   "metadata": {},
   "outputs": [
    {
     "name": "stdout",
     "output_type": "stream",
     "text": [
      "The scikit-learn version is 0.22.\n"
     ]
    }
   ],
   "source": [
    "import pandas as pd\n",
    "import re\n",
    "import pickle\n",
    "\n",
    "\n",
    "from nltk.tokenize import sent_tokenize,word_tokenize\n",
    "from nltk.stem import PorterStemmer, WordNetLemmatizer\n",
    "\n",
    "from nltk.corpus import stopwords\n",
    "from autocorrect import Speller\n",
    "import sklearn\n",
    "import numpy as np\n",
    "import matplotlib as plt\n",
    "import pycaret\n",
    "import nltk\n",
    "import spacy\n",
    "\n",
    "from sklearn.tree import DecisionTreeClassifier\n",
    "\n",
    "from sklearn.metrics import confusion_matrix\n",
    "from sklearn.metrics import classification_report, f1_score\n",
    "print('The scikit-learn version is {}.'.format(sklearn.__version__))"
   ]
  },
  {
   "cell_type": "code",
   "execution_count": 84,
   "metadata": {},
   "outputs": [],
   "source": [
    "#Functions used in this script\n",
    "\n",
    "# created but can assume these companies spelled it right in there TOA\n",
    "def spelling(text):\n",
    "    \n",
    "    spell = Speller(lang='en')\n",
    "    return str(spell(text))\n",
    "    \n",
    "def tokening(text):\n",
    "    \n",
    "    #nltk.download('punkt')\n",
    "    tokenized_word=word_tokenize(text)\n",
    "    return tokenized_word\n",
    "    \n",
    "def removing_stopwords(text):\n",
    "    \n",
    "    #nltk.download('punkt')\n",
    "    tokenized_word1=tokening(text)\n",
    "    #nltk.download('stopwords')\n",
    "    stop_words=set(stopwords.words(\"english\"))\n",
    "    filtered_sent=[]\n",
    "    for w in tokenized_word1:\n",
    "        if w not in stop_words:\n",
    "            filtered_sent.append(w)\n",
    "    return \" \".join(filtered_sent)\n",
    "\n",
    "\n",
    "\n",
    "def Lemmating(text):\n",
    "    #nltk.download('wordnet')\n",
    "    lemmatizer = WordNetLemmatizer()\n",
    "    tokenized_word1=tokening(text)\n",
    "    stemmed_words=[]\n",
    "    for w in tokenized_word1:\n",
    "        stemmed_words.append(lemmatizer.lemmatize(w))\n",
    "    return \" \".join(stemmed_words)\n",
    "\n",
    "def pos_tag(text):\n",
    "    #nltk.download('averaged_perceptron_tagger')\n",
    "    tokenized_word1=tokening(text)\n",
    "    pos=nltk.pos_tag(removing_stopwords(text1))\n",
    "    return pos\n",
    "    \n",
    "# function called for cleaning html tags from text\n",
    "def cleanhtml(raw_html):\n",
    "  cleanr = re.compile('<.*?>')\n",
    "  cleantext = re.sub(cleanr, '', raw_html)\n",
    "  return cleantext\n"
   ]
  },
  {
   "cell_type": "code",
   "execution_count": 85,
   "metadata": {},
   "outputs": [],
   "source": [
    "# import data\n",
    "data = pd.read_csv('DATA\\datapoints\\datapoint_3.csv')"
   ]
  },
  {
   "cell_type": "code",
   "execution_count": 86,
   "metadata": {},
   "outputs": [],
   "source": [
    "data = data[data['QuoteText'].notna()]\n",
    "data = data[data['Index Topic'].notna()]"
   ]
  },
  {
   "cell_type": "code",
   "execution_count": 87,
   "metadata": {},
   "outputs": [
    {
     "data": {
      "text/html": [
       "<div>\n",
       "<style scoped>\n",
       "    .dataframe tbody tr th:only-of-type {\n",
       "        vertical-align: middle;\n",
       "    }\n",
       "\n",
       "    .dataframe tbody tr th {\n",
       "        vertical-align: top;\n",
       "    }\n",
       "\n",
       "    .dataframe thead th {\n",
       "        text-align: right;\n",
       "    }\n",
       "</style>\n",
       "<table border=\"1\" class=\"dataframe\">\n",
       "  <thead>\n",
       "    <tr style=\"text-align: right;\">\n",
       "      <th></th>\n",
       "      <th>CompanyName</th>\n",
       "      <th>Point</th>\n",
       "      <th>QuoteText</th>\n",
       "      <th>QuoteDoc</th>\n",
       "      <th>LaymanTerm</th>\n",
       "      <th>Index Topic</th>\n",
       "    </tr>\n",
       "  </thead>\n",
       "  <tbody>\n",
       "    <tr>\n",
       "      <th>count</th>\n",
       "      <td>909</td>\n",
       "      <td>909</td>\n",
       "      <td>909</td>\n",
       "      <td>909</td>\n",
       "      <td>909</td>\n",
       "      <td>909</td>\n",
       "    </tr>\n",
       "    <tr>\n",
       "      <th>unique</th>\n",
       "      <td>256</td>\n",
       "      <td>4</td>\n",
       "      <td>904</td>\n",
       "      <td>105</td>\n",
       "      <td>43</td>\n",
       "      <td>17</td>\n",
       "    </tr>\n",
       "    <tr>\n",
       "      <th>top</th>\n",
       "      <td>brainly</td>\n",
       "      <td>bad</td>\n",
       "      <td>The company reserves the right to change, reda...</td>\n",
       "      <td>Privacy Policy</td>\n",
       "      <td>There is a date of the last update of the terms</td>\n",
       "      <td>Cookies</td>\n",
       "    </tr>\n",
       "    <tr>\n",
       "      <th>freq</th>\n",
       "      <td>14</td>\n",
       "      <td>475</td>\n",
       "      <td>2</td>\n",
       "      <td>303</td>\n",
       "      <td>122</td>\n",
       "      <td>145</td>\n",
       "    </tr>\n",
       "  </tbody>\n",
       "</table>\n",
       "</div>"
      ],
      "text/plain": [
       "       CompanyName Point                                          QuoteText  \\\n",
       "count          909   909                                                909   \n",
       "unique         256     4                                                904   \n",
       "top        brainly   bad  The company reserves the right to change, reda...   \n",
       "freq            14   475                                                  2   \n",
       "\n",
       "              QuoteDoc                                       LaymanTerm  \\\n",
       "count              909                                              909   \n",
       "unique             105                                               43   \n",
       "top     Privacy Policy  There is a date of the last update of the terms   \n",
       "freq               303                                              122   \n",
       "\n",
       "       Index Topic  \n",
       "count          909  \n",
       "unique          17  \n",
       "top        Cookies  \n",
       "freq           145  "
      ]
     },
     "execution_count": 87,
     "metadata": {},
     "output_type": "execute_result"
    }
   ],
   "source": [
    "data.describe()"
   ]
  },
  {
   "cell_type": "code",
   "execution_count": 88,
   "metadata": {},
   "outputs": [
    {
     "data": {
      "text/html": [
       "<div>\n",
       "<style scoped>\n",
       "    .dataframe tbody tr th:only-of-type {\n",
       "        vertical-align: middle;\n",
       "    }\n",
       "\n",
       "    .dataframe tbody tr th {\n",
       "        vertical-align: top;\n",
       "    }\n",
       "\n",
       "    .dataframe thead th {\n",
       "        text-align: right;\n",
       "    }\n",
       "</style>\n",
       "<table border=\"1\" class=\"dataframe\">\n",
       "  <thead>\n",
       "    <tr style=\"text-align: right;\">\n",
       "      <th></th>\n",
       "      <th>CompanyName</th>\n",
       "      <th>Point</th>\n",
       "      <th>QuoteText</th>\n",
       "      <th>QuoteDoc</th>\n",
       "      <th>LaymanTerm</th>\n",
       "      <th>Index Topic</th>\n",
       "    </tr>\n",
       "  </thead>\n",
       "  <tbody>\n",
       "    <tr>\n",
       "      <th>0</th>\n",
       "      <td>scratch</td>\n",
       "      <td>neutral</td>\n",
       "      <td>&lt;p&gt;\\n&lt;i&gt;The Scratch Privacy Policy was last up...</td>\n",
       "      <td>Privacy Policy</td>\n",
       "      <td>There is a date of the last update of the terms</td>\n",
       "      <td>Notice of Changing Terms</td>\n",
       "    </tr>\n",
       "    <tr>\n",
       "      <th>1</th>\n",
       "      <td>trello</td>\n",
       "      <td>bad</td>\n",
       "      <td>\\n&lt;/ul&gt;Sharing with third parties &lt;p&gt;We share ...</td>\n",
       "      <td>Privacy Policy</td>\n",
       "      <td>Third parties may be involved in operating the...</td>\n",
       "      <td>Third Parties</td>\n",
       "    </tr>\n",
       "    <tr>\n",
       "      <th>2</th>\n",
       "      <td>trello</td>\n",
       "      <td>bad</td>\n",
       "      <td>Send \"Do Not Track\" Signals:&lt;/b&gt; Some browsers...</td>\n",
       "      <td>Privacy Policy</td>\n",
       "      <td>This service ignores the Do Not Track (DNT) he...</td>\n",
       "      <td>Cookies</td>\n",
       "    </tr>\n",
       "    <tr>\n",
       "      <th>4</th>\n",
       "      <td>trello</td>\n",
       "      <td>neutral</td>\n",
       "      <td>These Cloud Terms of Service will go into effe...</td>\n",
       "      <td>Atlassian Cloud Terms of Service</td>\n",
       "      <td>There is a date of the last update of the terms</td>\n",
       "      <td>Notice of Changing Terms</td>\n",
       "    </tr>\n",
       "    <tr>\n",
       "      <th>6</th>\n",
       "      <td>trello</td>\n",
       "      <td>bad</td>\n",
       "      <td>5.4.&lt;/strong&gt;\\n&lt;u&gt;Your Indemnity&lt;/u&gt;. You will...</td>\n",
       "      <td>Atlassian Cloud Terms of Service</td>\n",
       "      <td>You agree to defend, indemnify, and hold the s...</td>\n",
       "      <td>Governance</td>\n",
       "    </tr>\n",
       "  </tbody>\n",
       "</table>\n",
       "</div>"
      ],
      "text/plain": [
       "  CompanyName    Point                                          QuoteText  \\\n",
       "0     scratch  neutral  <p>\\n<i>The Scratch Privacy Policy was last up...   \n",
       "1      trello      bad  \\n</ul>Sharing with third parties <p>We share ...   \n",
       "2      trello      bad  Send \"Do Not Track\" Signals:</b> Some browsers...   \n",
       "4      trello  neutral  These Cloud Terms of Service will go into effe...   \n",
       "6      trello      bad  5.4.</strong>\\n<u>Your Indemnity</u>. You will...   \n",
       "\n",
       "                           QuoteDoc  \\\n",
       "0                    Privacy Policy   \n",
       "1                    Privacy Policy   \n",
       "2                    Privacy Policy   \n",
       "4  Atlassian Cloud Terms of Service   \n",
       "6  Atlassian Cloud Terms of Service   \n",
       "\n",
       "                                          LaymanTerm               Index Topic  \n",
       "0    There is a date of the last update of the terms  Notice of Changing Terms  \n",
       "1  Third parties may be involved in operating the...             Third Parties  \n",
       "2  This service ignores the Do Not Track (DNT) he...                   Cookies  \n",
       "4    There is a date of the last update of the terms  Notice of Changing Terms  \n",
       "6  You agree to defend, indemnify, and hold the s...                Governance  "
      ]
     },
     "execution_count": 88,
     "metadata": {},
     "output_type": "execute_result"
    }
   ],
   "source": [
    "data.head()"
   ]
  },
  {
   "cell_type": "code",
   "execution_count": 89,
   "metadata": {},
   "outputs": [],
   "source": [
    "## Makes a new data frame of data by splitting any phrases into sentences and lining it up with the same label\n",
    "sentences = []\n",
    "for row in data.itertuples():\n",
    "    for sentence in sent_tokenize(row[3]):\n",
    "        if type(sentence) != float:\n",
    "            if sentence != '':\n",
    "                sentences.append((row[1], row[6], row[2], sentence))\n",
    "data_sentenced = pd.DataFrame(sentences, columns=['Company', 'Label', 'Punitive', 'Sentence'])"
   ]
  },
  {
   "cell_type": "code",
   "execution_count": 90,
   "metadata": {},
   "outputs": [],
   "source": [
    "#remove all tags like <p> etc. in the data frame \"data_sentenced\"\n",
    "\n",
    "data_sentenced['Sentence'] = data_sentenced.apply(lambda x: cleanhtml(x['Sentence']), axis=1)"
   ]
  },
  {
   "cell_type": "code",
   "execution_count": 91,
   "metadata": {},
   "outputs": [],
   "source": [
    "# remove any non alpha numeric\n",
    "\n",
    "data_sentenced['Sentence'] = data_sentenced.apply(lambda x: re.sub('[^0-9a-zA-Z]+', ' ', x['Sentence']), axis=1)"
   ]
  },
  {
   "cell_type": "code",
   "execution_count": 92,
   "metadata": {},
   "outputs": [],
   "source": [
    "#remove stop words\n",
    "\n",
    "data_sentenced['Sentence'] = data_sentenced.apply(lambda x: removing_stopwords(x['Sentence']), axis=1)"
   ]
  },
  {
   "cell_type": "code",
   "execution_count": 93,
   "metadata": {},
   "outputs": [],
   "source": [
    "#Lemmaing words\n",
    "\n",
    "data_sentenced['Sentence'] = data_sentenced.apply(lambda x: Lemmating(x['Sentence']), axis=1)"
   ]
  },
  {
   "cell_type": "code",
   "execution_count": 94,
   "metadata": {},
   "outputs": [
    {
     "data": {
      "text/html": [
       "<div>\n",
       "<style scoped>\n",
       "    .dataframe tbody tr th:only-of-type {\n",
       "        vertical-align: middle;\n",
       "    }\n",
       "\n",
       "    .dataframe tbody tr th {\n",
       "        vertical-align: top;\n",
       "    }\n",
       "\n",
       "    .dataframe thead th {\n",
       "        text-align: right;\n",
       "    }\n",
       "</style>\n",
       "<table border=\"1\" class=\"dataframe\">\n",
       "  <thead>\n",
       "    <tr style=\"text-align: right;\">\n",
       "      <th></th>\n",
       "      <th>Company</th>\n",
       "      <th>Label</th>\n",
       "      <th>Punitive</th>\n",
       "      <th>Sentence</th>\n",
       "    </tr>\n",
       "  </thead>\n",
       "  <tbody>\n",
       "    <tr>\n",
       "      <th>count</th>\n",
       "      <td>1581</td>\n",
       "      <td>1581</td>\n",
       "      <td>1581</td>\n",
       "      <td>1581</td>\n",
       "    </tr>\n",
       "    <tr>\n",
       "      <th>unique</th>\n",
       "      <td>256</td>\n",
       "      <td>17</td>\n",
       "      <td>4</td>\n",
       "      <td>1551</td>\n",
       "    </tr>\n",
       "    <tr>\n",
       "      <th>top</th>\n",
       "      <td>google</td>\n",
       "      <td>Cookies</td>\n",
       "      <td>bad</td>\n",
       "      <td></td>\n",
       "    </tr>\n",
       "    <tr>\n",
       "      <th>freq</th>\n",
       "      <td>43</td>\n",
       "      <td>268</td>\n",
       "      <td>917</td>\n",
       "      <td>11</td>\n",
       "    </tr>\n",
       "  </tbody>\n",
       "</table>\n",
       "</div>"
      ],
      "text/plain": [
       "       Company    Label Punitive Sentence\n",
       "count     1581     1581     1581     1581\n",
       "unique     256       17        4     1551\n",
       "top     google  Cookies      bad         \n",
       "freq        43      268      917       11"
      ]
     },
     "execution_count": 94,
     "metadata": {},
     "output_type": "execute_result"
    }
   ],
   "source": [
    "data_sentenced.describe()"
   ]
  },
  {
   "cell_type": "code",
   "execution_count": 95,
   "metadata": {},
   "outputs": [
    {
     "data": {
      "text/html": [
       "<div>\n",
       "<style scoped>\n",
       "    .dataframe tbody tr th:only-of-type {\n",
       "        vertical-align: middle;\n",
       "    }\n",
       "\n",
       "    .dataframe tbody tr th {\n",
       "        vertical-align: top;\n",
       "    }\n",
       "\n",
       "    .dataframe thead th {\n",
       "        text-align: right;\n",
       "    }\n",
       "</style>\n",
       "<table border=\"1\" class=\"dataframe\">\n",
       "  <thead>\n",
       "    <tr style=\"text-align: right;\">\n",
       "      <th></th>\n",
       "      <th>Company</th>\n",
       "      <th>Label</th>\n",
       "      <th>Punitive</th>\n",
       "      <th>Sentence</th>\n",
       "    </tr>\n",
       "  </thead>\n",
       "  <tbody>\n",
       "    <tr>\n",
       "      <th>count</th>\n",
       "      <td>1581</td>\n",
       "      <td>1581</td>\n",
       "      <td>1581</td>\n",
       "      <td>1581</td>\n",
       "    </tr>\n",
       "    <tr>\n",
       "      <th>unique</th>\n",
       "      <td>256</td>\n",
       "      <td>17</td>\n",
       "      <td>4</td>\n",
       "      <td>1551</td>\n",
       "    </tr>\n",
       "    <tr>\n",
       "      <th>top</th>\n",
       "      <td>google</td>\n",
       "      <td>Cookies</td>\n",
       "      <td>bad</td>\n",
       "      <td></td>\n",
       "    </tr>\n",
       "    <tr>\n",
       "      <th>freq</th>\n",
       "      <td>43</td>\n",
       "      <td>268</td>\n",
       "      <td>917</td>\n",
       "      <td>11</td>\n",
       "    </tr>\n",
       "  </tbody>\n",
       "</table>\n",
       "</div>"
      ],
      "text/plain": [
       "       Company    Label Punitive Sentence\n",
       "count     1581     1581     1581     1581\n",
       "unique     256       17        4     1551\n",
       "top     google  Cookies      bad         \n",
       "freq        43      268      917       11"
      ]
     },
     "execution_count": 95,
     "metadata": {},
     "output_type": "execute_result"
    }
   ],
   "source": [
    "data_sentenced.describe(include = 'O')"
   ]
  },
  {
   "cell_type": "code",
   "execution_count": 96,
   "metadata": {},
   "outputs": [
    {
     "data": {
      "text/html": [
       "<div>\n",
       "<style scoped>\n",
       "    .dataframe tbody tr th:only-of-type {\n",
       "        vertical-align: middle;\n",
       "    }\n",
       "\n",
       "    .dataframe tbody tr th {\n",
       "        vertical-align: top;\n",
       "    }\n",
       "\n",
       "    .dataframe thead th {\n",
       "        text-align: right;\n",
       "    }\n",
       "</style>\n",
       "<table border=\"1\" class=\"dataframe\">\n",
       "  <thead>\n",
       "    <tr style=\"text-align: right;\">\n",
       "      <th></th>\n",
       "      <th>Company</th>\n",
       "      <th>Label</th>\n",
       "      <th>Punitive</th>\n",
       "      <th>Sentence</th>\n",
       "    </tr>\n",
       "  </thead>\n",
       "  <tbody>\n",
       "    <tr>\n",
       "      <th>0</th>\n",
       "      <td>scratch</td>\n",
       "      <td>Notice of Changing Terms</td>\n",
       "      <td>neutral</td>\n",
       "      <td>The Scratch Privacy Policy last updated May 23...</td>\n",
       "    </tr>\n",
       "    <tr>\n",
       "      <th>1</th>\n",
       "      <td>trello</td>\n",
       "      <td>Third Parties</td>\n",
       "      <td>bad</td>\n",
       "      <td>Sharing third party We share information third...</td>\n",
       "    </tr>\n",
       "    <tr>\n",
       "      <th>2</th>\n",
       "      <td>trello</td>\n",
       "      <td>Third Parties</td>\n",
       "      <td>bad</td>\n",
       "      <td>If service provider need access information pe...</td>\n",
       "    </tr>\n",
       "    <tr>\n",
       "      <th>3</th>\n",
       "      <td>trello</td>\n",
       "      <td>Third Parties</td>\n",
       "      <td>bad</td>\n",
       "      <td>We may also share information third party agre...</td>\n",
       "    </tr>\n",
       "    <tr>\n",
       "      <th>4</th>\n",
       "      <td>trello</td>\n",
       "      <td>Third Parties</td>\n",
       "      <td>bad</td>\n",
       "      <td>Doing may give third party apps access account...</td>\n",
       "    </tr>\n",
       "  </tbody>\n",
       "</table>\n",
       "</div>"
      ],
      "text/plain": [
       "   Company                     Label Punitive  \\\n",
       "0  scratch  Notice of Changing Terms  neutral   \n",
       "1   trello             Third Parties      bad   \n",
       "2   trello             Third Parties      bad   \n",
       "3   trello             Third Parties      bad   \n",
       "4   trello             Third Parties      bad   \n",
       "\n",
       "                                            Sentence  \n",
       "0  The Scratch Privacy Policy last updated May 23...  \n",
       "1  Sharing third party We share information third...  \n",
       "2  If service provider need access information pe...  \n",
       "3  We may also share information third party agre...  \n",
       "4  Doing may give third party apps access account...  "
      ]
     },
     "execution_count": 96,
     "metadata": {},
     "output_type": "execute_result"
    }
   ],
   "source": [
    "data_sentenced.head()"
   ]
  },
  {
   "cell_type": "code",
   "execution_count": 97,
   "metadata": {},
   "outputs": [],
   "source": [
    "# change label to binary either bad or not bad\n",
    "data_sentenced['Punitive'].replace(['blocker', 'neutral', 'good'], 0, inplace=True)\n",
    "data_sentenced['Punitive'].replace(['bad'], 1, inplace=True)"
   ]
  },
  {
   "cell_type": "code",
   "execution_count": 98,
   "metadata": {},
   "outputs": [],
   "source": [
    "#place into series for input and label\n",
    "\n",
    "X_lab, y_lab = data_sentenced['Sentence'], data_sentenced['Label']\n",
    "\n",
    "X_lab_train, X_lab_val, y_lab_train, y_lab_val = sklearn.model_selection.train_test_split(X_lab, y_lab, test_size=0.2, random_state=42)"
   ]
  },
  {
   "cell_type": "code",
   "execution_count": 99,
   "metadata": {},
   "outputs": [],
   "source": [
    "#place into series for input and label\n",
    "\n",
    "X_pun, y_pun = data_sentenced['Sentence'], data_sentenced['Punitive']\n",
    "\n",
    "X_pun_train, X_pun_val, y_pun_train, y_pun_val = sklearn.model_selection.train_test_split(X_pun, y_pun, test_size=0.2, random_state=42)"
   ]
  },
  {
   "cell_type": "code",
   "execution_count": 100,
   "metadata": {},
   "outputs": [
    {
     "data": {
      "text/plain": [
       "(317, 20)"
      ]
     },
     "execution_count": 100,
     "metadata": {},
     "output_type": "execute_result"
    }
   ],
   "source": [
    "from sklearn.feature_extraction.text import TfidfVectorizer, CountVectorizer\n",
    "\n",
    "vectorizer = CountVectorizer(max_features = 20)\n",
    "vectorizer.fit(X_lab_train)\n",
    "\n",
    "dtm_lab_train = vectorizer.transform(X_lab_train)\n",
    "dtm_lab_train.shape\n",
    "\n",
    "dtm_lab_val = vectorizer.transform(X_lab_val)\n",
    "dtm_lab_val.shape"
   ]
  },
  {
   "cell_type": "code",
   "execution_count": 101,
   "metadata": {},
   "outputs": [
    {
     "data": {
      "text/plain": [
       "(317, 20)"
      ]
     },
     "execution_count": 101,
     "metadata": {},
     "output_type": "execute_result"
    }
   ],
   "source": [
    "from sklearn.feature_extraction.text import TfidfVectorizer, CountVectorizer\n",
    "\n",
    "vectorizer = CountVectorizer(max_features = 20)\n",
    "vectorizer.fit(X_pun_train)\n",
    "\n",
    "dtm_pun_train = vectorizer.transform(X_pun_train)\n",
    "dtm_pun_train.shape\n",
    "\n",
    "dtm_pun_val = vectorizer.transform(X_pun_val)\n",
    "dtm_pun_val.shape"
   ]
  },
  {
   "cell_type": "code",
   "execution_count": 102,
   "metadata": {},
   "outputs": [
    {
     "data": {
      "text/plain": [
       "['account',\n",
       " 'content',\n",
       " 'data',\n",
       " 'including',\n",
       " 'information',\n",
       " 'may',\n",
       " 'or',\n",
       " 'party',\n",
       " 'personal',\n",
       " 'right',\n",
       " 'service',\n",
       " 'services',\n",
       " 'site',\n",
       " 'the',\n",
       " 'third',\n",
       " 'time',\n",
       " 'use',\n",
       " 'user',\n",
       " 'we',\n",
       " 'you']"
      ]
     },
     "execution_count": 102,
     "metadata": {},
     "output_type": "execute_result"
    }
   ],
   "source": [
    "feature_names = vectorizer_pun.get_feature_names()\n",
    "feature_names"
   ]
  },
  {
   "cell_type": "markdown",
   "metadata": {},
   "source": [
    "# Build Models"
   ]
  },
  {
   "cell_type": "markdown",
   "metadata": {},
   "source": [
    "### creates two models, one for punitive and one for labels"
   ]
  },
  {
   "cell_type": "code",
   "execution_count": 103,
   "metadata": {},
   "outputs": [
    {
     "data": {
      "text/plain": [
       "DecisionTreeClassifier(ccp_alpha=0.0, class_weight=None, criterion='gini',\n",
       "                       max_depth=2, max_features=None, max_leaf_nodes=None,\n",
       "                       min_impurity_decrease=0.0, min_impurity_split=None,\n",
       "                       min_samples_leaf=1, min_samples_split=2,\n",
       "                       min_weight_fraction_leaf=0.0, presort='deprecated',\n",
       "                       random_state=None, splitter='best')"
      ]
     },
     "execution_count": 103,
     "metadata": {},
     "output_type": "execute_result"
    }
   ],
   "source": [
    "# Try diff models here\n",
    "\n",
    "clf_lab = DecisionTreeClassifier(max_depth=2)\n",
    "clf_lab.fit(dtm_lab_train, y_lab_train)"
   ]
  },
  {
   "cell_type": "code",
   "execution_count": 104,
   "metadata": {},
   "outputs": [
    {
     "data": {
      "text/plain": [
       "DecisionTreeClassifier(ccp_alpha=0.0, class_weight=None, criterion='gini',\n",
       "                       max_depth=2, max_features=None, max_leaf_nodes=None,\n",
       "                       min_impurity_decrease=0.0, min_impurity_split=None,\n",
       "                       min_samples_leaf=1, min_samples_split=2,\n",
       "                       min_weight_fraction_leaf=0.0, presort='deprecated',\n",
       "                       random_state=None, splitter='best')"
      ]
     },
     "execution_count": 104,
     "metadata": {},
     "output_type": "execute_result"
    }
   ],
   "source": [
    "# Try diff models here\n",
    "\n",
    "clf_pun = DecisionTreeClassifier(max_depth=2)\n",
    "clf_pun.fit(dtm_pun_train, y_pun_train)"
   ]
  },
  {
   "cell_type": "markdown",
   "metadata": {},
   "source": [
    "# Generate Output Vectors"
   ]
  },
  {
   "cell_type": "code",
   "execution_count": 147,
   "metadata": {},
   "outputs": [],
   "source": [
    "# Label ouput\n",
    "pred_val_labels = clf_lab.predict_proba(dtm_lab_val)"
   ]
  },
  {
   "cell_type": "code",
   "execution_count": 148,
   "metadata": {},
   "outputs": [],
   "source": [
    "# punitive output\n",
    "pred_val_pun = clf_pun.predict(dtm_pun_val)"
   ]
  },
  {
   "cell_type": "code",
   "execution_count": 149,
   "metadata": {},
   "outputs": [],
   "source": [
    "# Turn max of label vector to 1, everything else to 0\n",
    "\n",
    "b = np.zeros_like(pred_val_labels)\n",
    "b[np.arange(len(pred_val_labels)), pred_val_labels.argmax(1)] = 1"
   ]
  },
  {
   "cell_type": "code",
   "execution_count": 164,
   "metadata": {},
   "outputs": [],
   "source": [
    "# Concatenate Punitive and label vectors\n",
    "\n",
    "Rating_per_sentence = np.column_stack((pred_val_pun, b))"
   ]
  },
  {
   "cell_type": "code",
   "execution_count": 166,
   "metadata": {},
   "outputs": [
    {
     "data": {
      "text/plain": [
       "(317, 18)"
      ]
     },
     "execution_count": 166,
     "metadata": {},
     "output_type": "execute_result"
    }
   ],
   "source": [
    "Rating_per_sentence.shape"
   ]
  },
  {
   "cell_type": "code",
   "execution_count": 168,
   "metadata": {},
   "outputs": [
    {
     "data": {
      "text/plain": [
       "(317,)"
      ]
     },
     "execution_count": 168,
     "metadata": {},
     "output_type": "execute_result"
    }
   ],
   "source": [
    "X_lab_val.shape"
   ]
  },
  {
   "cell_type": "markdown",
   "metadata": {},
   "source": [
    "# Using Output Vectors Create Company Vector *DEPLOYMENT PART*"
   ]
  },
  {
   "cell_type": "code",
   "execution_count": 224,
   "metadata": {},
   "outputs": [],
   "source": [
    "#choose company\n",
    "company = 'twitch'\n",
    "\n",
    "company_details = data_sentenced.loc[data_sentenced['Company'] == company]"
   ]
  },
  {
   "cell_type": "code",
   "execution_count": 225,
   "metadata": {},
   "outputs": [],
   "source": [
    "# convert to model input vector\n",
    "\n",
    "X_company = company_details['Sentence']"
   ]
  },
  {
   "cell_type": "code",
   "execution_count": 226,
   "metadata": {},
   "outputs": [],
   "source": [
    "vectorizer = CountVectorizer(max_features = 20)\n",
    "vectorizer.fit(X_company)\n",
    "vectorized_company = vectorizer.transform(X_company)"
   ]
  },
  {
   "cell_type": "code",
   "execution_count": 227,
   "metadata": {},
   "outputs": [],
   "source": [
    "# punitive output\n",
    "pred_company_pun = clf_pun.predict(vectorized_company)"
   ]
  },
  {
   "cell_type": "code",
   "execution_count": 228,
   "metadata": {},
   "outputs": [],
   "source": [
    "# Label ouput\n",
    "pred_company_lab = clf_lab.predict_proba(vectorized_company)\n",
    "\n",
    "pred_company_lab_one_hot = np.zeros_like(pred_company_lab)\n",
    "pred_company_lab_one_hot[np.arange(len(pred_company_lab)), pred_company_lab.argmax(1)] = 1"
   ]
  },
  {
   "cell_type": "code",
   "execution_count": 230,
   "metadata": {},
   "outputs": [],
   "source": [
    "mask = np.zeros([pred_company_lab_one_hot.shape[0], pred_company_lab_one_hot.shape[1]]) "
   ]
  },
  {
   "cell_type": "code",
   "execution_count": 239,
   "metadata": {},
   "outputs": [],
   "source": [
    "filtered_one_hot = np.where(pred_company_pun[:, None], pred_company_lab_one_hot, mask)"
   ]
  },
  {
   "cell_type": "code",
   "execution_count": 247,
   "metadata": {},
   "outputs": [],
   "source": [
    "company_vector = filtered_one_hot.mean(axis=0)"
   ]
  },
  {
   "cell_type": "code",
   "execution_count": 248,
   "metadata": {},
   "outputs": [
    {
     "data": {
      "text/plain": [
       "array([0.        , 0.        , 0.        , 0.64285714, 0.        ,\n",
       "       0.        , 0.        , 0.        , 0.28571429, 0.        ,\n",
       "       0.        , 0.        , 0.        , 0.        , 0.        ,\n",
       "       0.        , 0.        ])"
      ]
     },
     "execution_count": 248,
     "metadata": {},
     "output_type": "execute_result"
    }
   ],
   "source": [
    "#this will be compared with customer ratings\n",
    "company_vector"
   ]
  },
  {
   "cell_type": "markdown",
   "metadata": {},
   "source": [
    "# Calculate Cosine Similarity of customer array"
   ]
  },
  {
   "cell_type": "code",
   "execution_count": 262,
   "metadata": {},
   "outputs": [],
   "source": [
    "darr_vector = np.array([0, 0, 0,5,0,10,0,0,0,0,0,0,0,0,0,0,0])"
   ]
  },
  {
   "cell_type": "code",
   "execution_count": 263,
   "metadata": {},
   "outputs": [],
   "source": [
    "# normalize by diving array by 10 which is the highest number\n",
    "darr_vector = darr_vector/10"
   ]
  },
  {
   "cell_type": "code",
   "execution_count": 264,
   "metadata": {},
   "outputs": [],
   "source": [
    "def cos_sim(a, b):\n",
    "    \"\"\"Takes 2 vectors a, b and returns the cosine similarity \n",
    "    \"\"\"\n",
    "    dot_product = np.dot(a, b) # x.y\n",
    "    norm_a = np.linalg.norm(a) #|x|\n",
    "    norm_b = np.linalg.norm(b) #|y|\n",
    "    return dot_product / (norm_a * norm_b)"
   ]
  },
  {
   "cell_type": "code",
   "execution_count": 265,
   "metadata": {},
   "outputs": [
    {
     "name": "stdout",
     "output_type": "stream",
     "text": [
      "0.40866894826784983\n"
     ]
    }
   ],
   "source": [
    "print(cos_sim(company_vector, darr_vector))"
   ]
  }
 ],
 "metadata": {
  "kernelspec": {
   "display_name": "Python 3",
   "language": "python",
   "name": "python3"
  },
  "language_info": {
   "codemirror_mode": {
    "name": "ipython",
    "version": 3
   },
   "file_extension": ".py",
   "mimetype": "text/x-python",
   "name": "python",
   "nbconvert_exporter": "python",
   "pygments_lexer": "ipython3",
   "version": "3.7.4"
  }
 },
 "nbformat": 4,
 "nbformat_minor": 4
}
