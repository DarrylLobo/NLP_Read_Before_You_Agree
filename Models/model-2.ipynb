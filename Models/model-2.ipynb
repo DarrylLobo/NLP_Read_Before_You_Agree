{
 "cells": [
  {
   "cell_type": "code",
   "execution_count": 39,
   "metadata": {
    "colab": {
     "base_uri": "https://localhost:8080/",
     "height": 191
    },
    "colab_type": "code",
    "executionInfo": {
     "elapsed": 4806,
     "status": "ok",
     "timestamp": 1591649232740,
     "user": {
      "displayName": "Nayef abu tayoun",
      "photoUrl": "",
      "userId": "12465418842917592865"
     },
     "user_tz": 240
    },
    "id": "5GPqFO5qh1Ej",
    "outputId": "a2f6f103-f1e0-4ab1-dee9-f660cb513b4a"
   },
   "outputs": [
    {
     "name": "stdout",
     "output_type": "stream",
     "text": [
      "Requirement already satisfied: autocorrect in /Users/nayefaboutayoun/opt/anaconda3/lib/python3.7/site-packages (1.1.0)\r\n"
     ]
    }
   ],
   "source": [
    "!pip install autocorrect\n"
   ]
  },
  {
   "cell_type": "markdown",
   "metadata": {},
   "source": [
    "## Step 1: Preparing the environment"
   ]
  },
  {
   "cell_type": "code",
   "execution_count": 40,
   "metadata": {
    "colab": {
     "base_uri": "https://localhost:8080/",
     "height": 34
    },
    "colab_type": "code",
    "executionInfo": {
     "elapsed": 5142,
     "status": "ok",
     "timestamp": 1591649233614,
     "user": {
      "displayName": "Nayef abu tayoun",
      "photoUrl": "",
      "userId": "12465418842917592865"
     },
     "user_tz": 240
    },
    "id": "vN6tRCLnh8mw",
    "outputId": "dbf10694-b758-4b88-e600-638f01a5cbd0"
   },
   "outputs": [
    {
     "name": "stdout",
     "output_type": "stream",
     "text": [
      "The scikit-learn version is 0.20.1.\n"
     ]
    }
   ],
   "source": [
    " \n",
    "\n",
    "import pandas as pd\n",
    "import re\n",
    "import pickle\n",
    "\n",
    "\n",
    "from nltk.tokenize import sent_tokenize,word_tokenize\n",
    "from nltk.stem import PorterStemmer, WordNetLemmatizer\n",
    "\n",
    "from nltk.corpus import stopwords\n",
    "from autocorrect import Speller\n",
    "import sklearn\n",
    "import numpy as np\n",
    "import matplotlib as plt\n",
    "#import pycaret\n",
    "import nltk\n",
    "import spacy\n",
    "\n",
    "from sklearn.tree import DecisionTreeClassifier\n",
    "\n",
    "from sklearn.metrics import confusion_matrix\n",
    "from sklearn.metrics import classification_report, f1_score\n",
    "print('The scikit-learn version is {}.'.format(sklearn.__version__))"
   ]
  },
  {
   "cell_type": "code",
   "execution_count": 41,
   "metadata": {
    "colab": {
     "base_uri": "https://localhost:8080/",
     "height": 1000
    },
    "colab_type": "code",
    "executionInfo": {
     "elapsed": 12054,
     "status": "ok",
     "timestamp": 1591649241256,
     "user": {
      "displayName": "Nayef abu tayoun",
      "photoUrl": "",
      "userId": "12465418842917592865"
     },
     "user_tz": 240
    },
    "id": "PcoUM4D9iBEU",
    "outputId": "905375ad-b580-4a68-c999-7b040cee56f1"
   },
   "outputs": [
    {
     "name": "stdout",
     "output_type": "stream",
     "text": [
      "Requirement already satisfied: simpletransformers in /Users/nayefaboutayoun/opt/anaconda3/lib/python3.7/site-packages (0.29.1)\n",
      "Requirement already satisfied: scikit-learn in /Users/nayefaboutayoun/opt/anaconda3/lib/python3.7/site-packages (from simpletransformers) (0.20.1)\n",
      "Requirement already satisfied: tensorboardx in /Users/nayefaboutayoun/opt/anaconda3/lib/python3.7/site-packages (from simpletransformers) (2.0)\n",
      "Requirement already satisfied: numpy in /Users/nayefaboutayoun/opt/anaconda3/lib/python3.7/site-packages (from simpletransformers) (1.17.2)\n",
      "Requirement already satisfied: tqdm in /Users/nayefaboutayoun/opt/anaconda3/lib/python3.7/site-packages (from simpletransformers) (4.46.0)\n",
      "Requirement already satisfied: transformers>=2.9.1 in /Users/nayefaboutayoun/opt/anaconda3/lib/python3.7/site-packages (from simpletransformers) (2.10.0)\n",
      "Requirement already satisfied: seqeval in /Users/nayefaboutayoun/opt/anaconda3/lib/python3.7/site-packages (from simpletransformers) (0.0.12)\n",
      "Requirement already satisfied: requests in /Users/nayefaboutayoun/opt/anaconda3/lib/python3.7/site-packages (from simpletransformers) (2.22.0)\n",
      "Requirement already satisfied: regex in /Users/nayefaboutayoun/opt/anaconda3/lib/python3.7/site-packages (from simpletransformers) (2020.4.4)\n",
      "Requirement already satisfied: scipy in /Users/nayefaboutayoun/opt/anaconda3/lib/python3.7/site-packages (from simpletransformers) (1.4.1)\n",
      "Requirement already satisfied: tokenizers in /Users/nayefaboutayoun/opt/anaconda3/lib/python3.7/site-packages (from simpletransformers) (0.7.0)\n",
      "Requirement already satisfied: pandas in /Users/nayefaboutayoun/opt/anaconda3/lib/python3.7/site-packages (from simpletransformers) (0.25.1)\n",
      "Requirement already satisfied: six in /Users/nayefaboutayoun/opt/anaconda3/lib/python3.7/site-packages (from tensorboardx->simpletransformers) (1.12.0)\n",
      "Requirement already satisfied: protobuf>=3.8.0 in /Users/nayefaboutayoun/opt/anaconda3/lib/python3.7/site-packages (from tensorboardx->simpletransformers) (3.11.2)\n",
      "Requirement already satisfied: sacremoses in /Users/nayefaboutayoun/opt/anaconda3/lib/python3.7/site-packages (from transformers>=2.9.1->simpletransformers) (0.0.43)\n",
      "Requirement already satisfied: filelock in /Users/nayefaboutayoun/opt/anaconda3/lib/python3.7/site-packages (from transformers>=2.9.1->simpletransformers) (3.0.12)\n",
      "Requirement already satisfied: sentencepiece in /Users/nayefaboutayoun/opt/anaconda3/lib/python3.7/site-packages (from transformers>=2.9.1->simpletransformers) (0.1.91)\n",
      "Requirement already satisfied: Keras>=2.2.4 in /Users/nayefaboutayoun/opt/anaconda3/lib/python3.7/site-packages (from seqeval->simpletransformers) (2.2.5)\n",
      "Requirement already satisfied: certifi>=2017.4.17 in /Users/nayefaboutayoun/opt/anaconda3/lib/python3.7/site-packages (from requests->simpletransformers) (2019.9.11)\n",
      "Requirement already satisfied: idna<2.9,>=2.5 in /Users/nayefaboutayoun/opt/anaconda3/lib/python3.7/site-packages (from requests->simpletransformers) (2.8)\n",
      "Requirement already satisfied: urllib3!=1.25.0,!=1.25.1,<1.26,>=1.21.1 in /Users/nayefaboutayoun/opt/anaconda3/lib/python3.7/site-packages (from requests->simpletransformers) (1.24.2)\n",
      "Requirement already satisfied: chardet<3.1.0,>=3.0.2 in /Users/nayefaboutayoun/opt/anaconda3/lib/python3.7/site-packages (from requests->simpletransformers) (3.0.4)\n",
      "Requirement already satisfied: pytz>=2017.2 in /Users/nayefaboutayoun/opt/anaconda3/lib/python3.7/site-packages (from pandas->simpletransformers) (2019.3)\n",
      "Requirement already satisfied: python-dateutil>=2.6.1 in /Users/nayefaboutayoun/opt/anaconda3/lib/python3.7/site-packages (from pandas->simpletransformers) (2.8.0)\n",
      "Requirement already satisfied: setuptools in /Users/nayefaboutayoun/opt/anaconda3/lib/python3.7/site-packages (from protobuf>=3.8.0->tensorboardx->simpletransformers) (41.4.0)\n",
      "Requirement already satisfied: joblib in /Users/nayefaboutayoun/opt/anaconda3/lib/python3.7/site-packages (from sacremoses->transformers>=2.9.1->simpletransformers) (0.13.2)\n",
      "Requirement already satisfied: click in /Users/nayefaboutayoun/opt/anaconda3/lib/python3.7/site-packages (from sacremoses->transformers>=2.9.1->simpletransformers) (7.0)\n",
      "Requirement already satisfied: h5py in /Users/nayefaboutayoun/opt/anaconda3/lib/python3.7/site-packages (from Keras>=2.2.4->seqeval->simpletransformers) (2.9.0)\n",
      "Requirement already satisfied: pyyaml in /Users/nayefaboutayoun/opt/anaconda3/lib/python3.7/site-packages (from Keras>=2.2.4->seqeval->simpletransformers) (5.1.2)\n",
      "Requirement already satisfied: keras-applications>=1.0.8 in /Users/nayefaboutayoun/opt/anaconda3/lib/python3.7/site-packages (from Keras>=2.2.4->seqeval->simpletransformers) (1.0.8)\n",
      "Requirement already satisfied: keras-preprocessing>=1.1.0 in /Users/nayefaboutayoun/opt/anaconda3/lib/python3.7/site-packages (from Keras>=2.2.4->seqeval->simpletransformers) (1.1.0)\n",
      "Requirement already satisfied: spacy in /Users/nayefaboutayoun/opt/anaconda3/lib/python3.7/site-packages (2.2.4)\n",
      "Requirement already satisfied: catalogue<1.1.0,>=0.0.7 in /Users/nayefaboutayoun/opt/anaconda3/lib/python3.7/site-packages (from spacy) (1.0.0)\n",
      "Requirement already satisfied: plac<1.2.0,>=0.9.6 in /Users/nayefaboutayoun/opt/anaconda3/lib/python3.7/site-packages (from spacy) (1.1.3)\n",
      "Requirement already satisfied: preshed<3.1.0,>=3.0.2 in /Users/nayefaboutayoun/opt/anaconda3/lib/python3.7/site-packages (from spacy) (3.0.2)\n",
      "Requirement already satisfied: cymem<2.1.0,>=2.0.2 in /Users/nayefaboutayoun/opt/anaconda3/lib/python3.7/site-packages (from spacy) (2.0.3)\n",
      "Requirement already satisfied: murmurhash<1.1.0,>=0.28.0 in /Users/nayefaboutayoun/opt/anaconda3/lib/python3.7/site-packages (from spacy) (1.0.2)\n",
      "Requirement already satisfied: tqdm<5.0.0,>=4.38.0 in /Users/nayefaboutayoun/opt/anaconda3/lib/python3.7/site-packages (from spacy) (4.46.0)\n",
      "Requirement already satisfied: blis<0.5.0,>=0.4.0 in /Users/nayefaboutayoun/opt/anaconda3/lib/python3.7/site-packages (from spacy) (0.4.1)\n",
      "Requirement already satisfied: srsly<1.1.0,>=1.0.2 in /Users/nayefaboutayoun/opt/anaconda3/lib/python3.7/site-packages (from spacy) (1.0.2)\n",
      "Requirement already satisfied: setuptools in /Users/nayefaboutayoun/opt/anaconda3/lib/python3.7/site-packages (from spacy) (41.4.0)\n",
      "Requirement already satisfied: thinc==7.4.0 in /Users/nayefaboutayoun/opt/anaconda3/lib/python3.7/site-packages (from spacy) (7.4.0)\n",
      "Requirement already satisfied: numpy>=1.15.0 in /Users/nayefaboutayoun/opt/anaconda3/lib/python3.7/site-packages (from spacy) (1.17.2)\n",
      "Requirement already satisfied: requests<3.0.0,>=2.13.0 in /Users/nayefaboutayoun/opt/anaconda3/lib/python3.7/site-packages (from spacy) (2.22.0)\n",
      "Requirement already satisfied: wasabi<1.1.0,>=0.4.0 in /Users/nayefaboutayoun/opt/anaconda3/lib/python3.7/site-packages (from spacy) (0.6.0)\n",
      "Requirement already satisfied: importlib-metadata>=0.20; python_version < \"3.8\" in /Users/nayefaboutayoun/opt/anaconda3/lib/python3.7/site-packages (from catalogue<1.1.0,>=0.0.7->spacy) (0.23)\n",
      "Requirement already satisfied: chardet<3.1.0,>=3.0.2 in /Users/nayefaboutayoun/opt/anaconda3/lib/python3.7/site-packages (from requests<3.0.0,>=2.13.0->spacy) (3.0.4)\n",
      "Requirement already satisfied: idna<2.9,>=2.5 in /Users/nayefaboutayoun/opt/anaconda3/lib/python3.7/site-packages (from requests<3.0.0,>=2.13.0->spacy) (2.8)\n",
      "Requirement already satisfied: certifi>=2017.4.17 in /Users/nayefaboutayoun/opt/anaconda3/lib/python3.7/site-packages (from requests<3.0.0,>=2.13.0->spacy) (2019.9.11)\n",
      "Requirement already satisfied: urllib3!=1.25.0,!=1.25.1,<1.26,>=1.21.1 in /Users/nayefaboutayoun/opt/anaconda3/lib/python3.7/site-packages (from requests<3.0.0,>=2.13.0->spacy) (1.24.2)\n",
      "Requirement already satisfied: zipp>=0.5 in /Users/nayefaboutayoun/opt/anaconda3/lib/python3.7/site-packages (from importlib-metadata>=0.20; python_version < \"3.8\"->catalogue<1.1.0,>=0.0.7->spacy) (0.6.0)\n",
      "Requirement already satisfied: more-itertools in /Users/nayefaboutayoun/opt/anaconda3/lib/python3.7/site-packages (from zipp>=0.5->importlib-metadata>=0.20; python_version < \"3.8\"->catalogue<1.1.0,>=0.0.7->spacy) (7.2.0)\n",
      "Requirement already satisfied: scikit-learn==0.20.1 in /Users/nayefaboutayoun/opt/anaconda3/lib/python3.7/site-packages (0.20.1)\n"
     ]
    },
    {
     "name": "stdout",
     "output_type": "stream",
     "text": [
      "Requirement already satisfied: scipy>=0.13.3 in /Users/nayefaboutayoun/opt/anaconda3/lib/python3.7/site-packages (from scikit-learn==0.20.1) (1.4.1)\r\n",
      "Requirement already satisfied: numpy>=1.8.2 in /Users/nayefaboutayoun/opt/anaconda3/lib/python3.7/site-packages (from scikit-learn==0.20.1) (1.17.2)\r\n"
     ]
    }
   ],
   "source": [
    "!pip install simpletransformers\n",
    "!pip install spacy\n",
    "!pip install scikit-learn==0.20.1"
   ]
  },
  {
   "cell_type": "markdown",
   "metadata": {},
   "source": [
    "## Step 2: Text Pre-processing"
   ]
  },
  {
   "cell_type": "code",
   "execution_count": 42,
   "metadata": {
    "colab": {},
    "colab_type": "code",
    "id": "8zMeZ6OTiCJn"
   },
   "outputs": [],
   "source": [
    "\n",
    "def spelling(text):\n",
    "    \n",
    "    spell = Speller(lang='en')\n",
    "    return str(spell(text))\n",
    "    \n",
    "def tokening(text):\n",
    "    \n",
    "    #nltk.download('punkt')\n",
    "    tokenized_word=word_tokenize(text)\n",
    "    return tokenized_word\n",
    "    \n",
    "def removing_stopwords(text):\n",
    "    \n",
    "    #nltk.download('punkt')\n",
    "    tokenized_word1=tokening(text)\n",
    "    #nltk.download('stopwords')\n",
    "    stop_words=set(stopwords.words(\"english\"))\n",
    "    filtered_sent=[]\n",
    "    for w in tokenized_word1:\n",
    "        if w not in stop_words:\n",
    "            filtered_sent.append(w)\n",
    "    return \" \".join(filtered_sent)\n",
    "\n",
    "\n",
    "\n",
    "def Lemmating(text):\n",
    "    #nltk.download('wordnet')\n",
    "    lemmatizer = WordNetLemmatizer()\n",
    "    tokenized_word1=tokening(text)\n",
    "    stemmed_words=[]\n",
    "    for w in tokenized_word1:\n",
    "        stemmed_words.append(lemmatizer.lemmatize(w))\n",
    "    return \" \".join(stemmed_words)\n",
    "\n",
    "def pos_tag(text):\n",
    "    #nltk.download('averaged_perceptron_tagger')\n",
    "    tokenized_word1=tokening(text)\n",
    "    pos=nltk.pos_tag(removing_stopwords(text1))\n",
    "    return pos\n",
    "    \n",
    "# function called for cleaning html tags from text\n",
    "def cleanhtml(raw_html):\n",
    "    cleanr = re.compile('<.*?>')\n",
    "    cleantext = re.sub(cleanr, '', raw_html)\n",
    "    return cleantext"
   ]
  },
  {
   "cell_type": "code",
   "execution_count": 44,
   "metadata": {
    "colab": {
     "base_uri": "https://localhost:8080/",
     "height": 206
    },
    "colab_type": "code",
    "executionInfo": {
     "elapsed": 266,
     "status": "ok",
     "timestamp": 1591649290989,
     "user": {
      "displayName": "Nayef abu tayoun",
      "photoUrl": "",
      "userId": "12465418842917592865"
     },
     "user_tz": 240
    },
    "id": "L6iJWrkfifre",
    "outputId": "af393af8-aeb1-4665-bd54-7f369d623f26"
   },
   "outputs": [
    {
     "data": {
      "text/html": [
       "<div>\n",
       "<style scoped>\n",
       "    .dataframe tbody tr th:only-of-type {\n",
       "        vertical-align: middle;\n",
       "    }\n",
       "\n",
       "    .dataframe tbody tr th {\n",
       "        vertical-align: top;\n",
       "    }\n",
       "\n",
       "    .dataframe thead th {\n",
       "        text-align: right;\n",
       "    }\n",
       "</style>\n",
       "<table border=\"1\" class=\"dataframe\">\n",
       "  <thead>\n",
       "    <tr style=\"text-align: right;\">\n",
       "      <th></th>\n",
       "      <th>CompanyName</th>\n",
       "      <th>Point</th>\n",
       "      <th>QuoteText</th>\n",
       "      <th>QuoteDoc</th>\n",
       "      <th>LaymanTerm</th>\n",
       "      <th>Index Topic</th>\n",
       "    </tr>\n",
       "  </thead>\n",
       "  <tbody>\n",
       "    <tr>\n",
       "      <td>0</td>\n",
       "      <td>scratch</td>\n",
       "      <td>neutral</td>\n",
       "      <td>&lt;p&gt;\\n&lt;i&gt;The Scratch Privacy Policy was last up...</td>\n",
       "      <td>Privacy Policy</td>\n",
       "      <td>There is a date of the last update of the terms</td>\n",
       "      <td>Notice of Changing Terms</td>\n",
       "    </tr>\n",
       "    <tr>\n",
       "      <td>1</td>\n",
       "      <td>trello</td>\n",
       "      <td>bad</td>\n",
       "      <td>\\n&lt;/ul&gt;Sharing with third parties &lt;p&gt;We share ...</td>\n",
       "      <td>Privacy Policy</td>\n",
       "      <td>Third parties may be involved in operating the...</td>\n",
       "      <td>Third Parties</td>\n",
       "    </tr>\n",
       "    <tr>\n",
       "      <td>2</td>\n",
       "      <td>trello</td>\n",
       "      <td>bad</td>\n",
       "      <td>Send \"Do Not Track\" Signals:&lt;/b&gt; Some browsers...</td>\n",
       "      <td>Privacy Policy</td>\n",
       "      <td>This service ignores the Do Not Track (DNT) he...</td>\n",
       "      <td>Cookies</td>\n",
       "    </tr>\n",
       "    <tr>\n",
       "      <td>3</td>\n",
       "      <td>trello</td>\n",
       "      <td>good</td>\n",
       "      <td>You have the right to request a copy of your i...</td>\n",
       "      <td>Trello Privacy Policy</td>\n",
       "      <td>You can request access and deletion of persona...</td>\n",
       "      <td>NaN</td>\n",
       "    </tr>\n",
       "    <tr>\n",
       "      <td>4</td>\n",
       "      <td>trello</td>\n",
       "      <td>neutral</td>\n",
       "      <td>These Cloud Terms of Service will go into effe...</td>\n",
       "      <td>Atlassian Cloud Terms of Service</td>\n",
       "      <td>There is a date of the last update of the terms</td>\n",
       "      <td>Notice of Changing Terms</td>\n",
       "    </tr>\n",
       "  </tbody>\n",
       "</table>\n",
       "</div>"
      ],
      "text/plain": [
       "  CompanyName    Point                                          QuoteText  \\\n",
       "0     scratch  neutral  <p>\\n<i>The Scratch Privacy Policy was last up...   \n",
       "1      trello      bad  \\n</ul>Sharing with third parties <p>We share ...   \n",
       "2      trello      bad  Send \"Do Not Track\" Signals:</b> Some browsers...   \n",
       "3      trello     good  You have the right to request a copy of your i...   \n",
       "4      trello  neutral  These Cloud Terms of Service will go into effe...   \n",
       "\n",
       "                           QuoteDoc  \\\n",
       "0                    Privacy Policy   \n",
       "1                    Privacy Policy   \n",
       "2                    Privacy Policy   \n",
       "3             Trello Privacy Policy   \n",
       "4  Atlassian Cloud Terms of Service   \n",
       "\n",
       "                                          LaymanTerm               Index Topic  \n",
       "0    There is a date of the last update of the terms  Notice of Changing Terms  \n",
       "1  Third parties may be involved in operating the...             Third Parties  \n",
       "2  This service ignores the Do Not Track (DNT) he...                   Cookies  \n",
       "3  You can request access and deletion of persona...                       NaN  \n",
       "4    There is a date of the last update of the terms  Notice of Changing Terms  "
      ]
     },
     "execution_count": 44,
     "metadata": {},
     "output_type": "execute_result"
    }
   ],
   "source": [
    "# import data\n",
    "data = pd.read_csv('datapoint_33.csv')\n",
    "data.head()"
   ]
  },
  {
   "cell_type": "code",
   "execution_count": 45,
   "metadata": {
    "colab": {
     "base_uri": "https://localhost:8080/",
     "height": 243
    },
    "colab_type": "code",
    "executionInfo": {
     "elapsed": 221,
     "status": "ok",
     "timestamp": 1591649292318,
     "user": {
      "displayName": "Nayef abu tayoun",
      "photoUrl": "",
      "userId": "12465418842917592865"
     },
     "user_tz": 240
    },
    "id": "h4Pz2FW-ikX5",
    "outputId": "10fb3e25-4240-46c9-be13-67a8967ef6ba"
   },
   "outputs": [
    {
     "name": "stdout",
     "output_type": "stream",
     "text": [
      "<class 'pandas.core.frame.DataFrame'>\n",
      "RangeIndex: 2140 entries, 0 to 2139\n",
      "Data columns (total 6 columns):\n",
      "CompanyName    2140 non-null object\n",
      "Point          2140 non-null object\n",
      "QuoteText      2140 non-null object\n",
      "QuoteDoc       2140 non-null object\n",
      "LaymanTerm     2140 non-null object\n",
      "Index Topic    909 non-null object\n",
      "dtypes: object(6)\n",
      "memory usage: 100.4+ KB\n"
     ]
    }
   ],
   "source": [
    "data.info()"
   ]
  },
  {
   "cell_type": "code",
   "execution_count": 46,
   "metadata": {
    "colab": {
     "base_uri": "https://localhost:8080/",
     "height": 424
    },
    "colab_type": "code",
    "executionInfo": {
     "elapsed": 321,
     "status": "ok",
     "timestamp": 1591649293720,
     "user": {
      "displayName": "Nayef abu tayoun",
      "photoUrl": "",
      "userId": "12465418842917592865"
     },
     "user_tz": 240
    },
    "id": "dVtg1pVBimm7",
    "outputId": "be088d9d-1cf9-4a5e-b7fd-37729d90d61b"
   },
   "outputs": [
    {
     "data": {
      "text/html": [
       "<div>\n",
       "<style scoped>\n",
       "    .dataframe tbody tr th:only-of-type {\n",
       "        vertical-align: middle;\n",
       "    }\n",
       "\n",
       "    .dataframe tbody tr th {\n",
       "        vertical-align: top;\n",
       "    }\n",
       "\n",
       "    .dataframe thead th {\n",
       "        text-align: right;\n",
       "    }\n",
       "</style>\n",
       "<table border=\"1\" class=\"dataframe\">\n",
       "  <thead>\n",
       "    <tr style=\"text-align: right;\">\n",
       "      <th></th>\n",
       "      <th>CompanyName</th>\n",
       "      <th>Point</th>\n",
       "      <th>QuoteText</th>\n",
       "      <th>QuoteDoc</th>\n",
       "      <th>LaymanTerm</th>\n",
       "      <th>Index Topic</th>\n",
       "    </tr>\n",
       "  </thead>\n",
       "  <tbody>\n",
       "    <tr>\n",
       "      <td>0</td>\n",
       "      <td>scratch</td>\n",
       "      <td>neutral</td>\n",
       "      <td>&lt;p&gt;\\n&lt;i&gt;The Scratch Privacy Policy was last up...</td>\n",
       "      <td>Privacy Policy</td>\n",
       "      <td>There is a date of the last update of the terms</td>\n",
       "      <td>Notice of Changing Terms</td>\n",
       "    </tr>\n",
       "    <tr>\n",
       "      <td>1</td>\n",
       "      <td>trello</td>\n",
       "      <td>bad</td>\n",
       "      <td>\\n&lt;/ul&gt;Sharing with third parties &lt;p&gt;We share ...</td>\n",
       "      <td>Privacy Policy</td>\n",
       "      <td>Third parties may be involved in operating the...</td>\n",
       "      <td>Third Parties</td>\n",
       "    </tr>\n",
       "    <tr>\n",
       "      <td>2</td>\n",
       "      <td>trello</td>\n",
       "      <td>bad</td>\n",
       "      <td>Send \"Do Not Track\" Signals:&lt;/b&gt; Some browsers...</td>\n",
       "      <td>Privacy Policy</td>\n",
       "      <td>This service ignores the Do Not Track (DNT) he...</td>\n",
       "      <td>Cookies</td>\n",
       "    </tr>\n",
       "    <tr>\n",
       "      <td>3</td>\n",
       "      <td>trello</td>\n",
       "      <td>neutral</td>\n",
       "      <td>These Cloud Terms of Service will go into effe...</td>\n",
       "      <td>Atlassian Cloud Terms of Service</td>\n",
       "      <td>There is a date of the last update of the terms</td>\n",
       "      <td>Notice of Changing Terms</td>\n",
       "    </tr>\n",
       "    <tr>\n",
       "      <td>4</td>\n",
       "      <td>trello</td>\n",
       "      <td>bad</td>\n",
       "      <td>5.4.&lt;/strong&gt;\\n&lt;u&gt;Your Indemnity&lt;/u&gt;. You will...</td>\n",
       "      <td>Atlassian Cloud Terms of Service</td>\n",
       "      <td>You agree to defend, indemnify, and hold the s...</td>\n",
       "      <td>Governance</td>\n",
       "    </tr>\n",
       "    <tr>\n",
       "      <td>...</td>\n",
       "      <td>...</td>\n",
       "      <td>...</td>\n",
       "      <td>...</td>\n",
       "      <td>...</td>\n",
       "      <td>...</td>\n",
       "      <td>...</td>\n",
       "    </tr>\n",
       "    <tr>\n",
       "      <td>904</td>\n",
       "      <td>imdb</td>\n",
       "      <td>bad</td>\n",
       "      <td>As we continue to develop our business, we mig...</td>\n",
       "      <td>Privacy Policy</td>\n",
       "      <td>The service can sell or otherwise transfer you...</td>\n",
       "      <td>Business Transfers</td>\n",
       "    </tr>\n",
       "    <tr>\n",
       "      <td>905</td>\n",
       "      <td>imdb</td>\n",
       "      <td>bad</td>\n",
       "      <td>We use web beacons (also known as “action tags...</td>\n",
       "      <td>Privacy Policy</td>\n",
       "      <td>The service may use tracking pixels, web beaco...</td>\n",
       "      <td>Cookies</td>\n",
       "    </tr>\n",
       "    <tr>\n",
       "      <td>906</td>\n",
       "      <td>imdb</td>\n",
       "      <td>good</td>\n",
       "      <td>Promotional Offers&lt;/b&gt;: Sometimes we send offe...</td>\n",
       "      <td>Privacy Policy</td>\n",
       "      <td>You can opt out of promotional communications</td>\n",
       "      <td>Governance</td>\n",
       "    </tr>\n",
       "    <tr>\n",
       "      <td>907</td>\n",
       "      <td>imdb</td>\n",
       "      <td>blocker</td>\n",
       "      <td>IMDb has the right but not the obligation to m...</td>\n",
       "      <td>Terms of Service</td>\n",
       "      <td>The service can delete specific content withou...</td>\n",
       "      <td>Ownership</td>\n",
       "    </tr>\n",
       "    <tr>\n",
       "      <td>908</td>\n",
       "      <td>imdb</td>\n",
       "      <td>neutral</td>\n",
       "      <td>Last Updated, February 8, 2018&lt;/b&gt;</td>\n",
       "      <td>Privacy Policy</td>\n",
       "      <td>There is a date of the last update of the terms</td>\n",
       "      <td>Notice of Changing Terms</td>\n",
       "    </tr>\n",
       "  </tbody>\n",
       "</table>\n",
       "<p>909 rows × 6 columns</p>\n",
       "</div>"
      ],
      "text/plain": [
       "    CompanyName    Point                                          QuoteText  \\\n",
       "0       scratch  neutral  <p>\\n<i>The Scratch Privacy Policy was last up...   \n",
       "1        trello      bad  \\n</ul>Sharing with third parties <p>We share ...   \n",
       "2        trello      bad  Send \"Do Not Track\" Signals:</b> Some browsers...   \n",
       "3        trello  neutral  These Cloud Terms of Service will go into effe...   \n",
       "4        trello      bad  5.4.</strong>\\n<u>Your Indemnity</u>. You will...   \n",
       "..          ...      ...                                                ...   \n",
       "904        imdb      bad  As we continue to develop our business, we mig...   \n",
       "905        imdb      bad  We use web beacons (also known as “action tags...   \n",
       "906        imdb     good  Promotional Offers</b>: Sometimes we send offe...   \n",
       "907        imdb  blocker  IMDb has the right but not the obligation to m...   \n",
       "908        imdb  neutral                 Last Updated, February 8, 2018</b>   \n",
       "\n",
       "                             QuoteDoc  \\\n",
       "0                      Privacy Policy   \n",
       "1                      Privacy Policy   \n",
       "2                      Privacy Policy   \n",
       "3    Atlassian Cloud Terms of Service   \n",
       "4    Atlassian Cloud Terms of Service   \n",
       "..                                ...   \n",
       "904                    Privacy Policy   \n",
       "905                    Privacy Policy   \n",
       "906                    Privacy Policy   \n",
       "907                  Terms of Service   \n",
       "908                    Privacy Policy   \n",
       "\n",
       "                                            LaymanTerm  \\\n",
       "0      There is a date of the last update of the terms   \n",
       "1    Third parties may be involved in operating the...   \n",
       "2    This service ignores the Do Not Track (DNT) he...   \n",
       "3      There is a date of the last update of the terms   \n",
       "4    You agree to defend, indemnify, and hold the s...   \n",
       "..                                                 ...   \n",
       "904  The service can sell or otherwise transfer you...   \n",
       "905  The service may use tracking pixels, web beaco...   \n",
       "906      You can opt out of promotional communications   \n",
       "907  The service can delete specific content withou...   \n",
       "908    There is a date of the last update of the terms   \n",
       "\n",
       "                  Index Topic  \n",
       "0    Notice of Changing Terms  \n",
       "1               Third Parties  \n",
       "2                     Cookies  \n",
       "3    Notice of Changing Terms  \n",
       "4                  Governance  \n",
       "..                        ...  \n",
       "904        Business Transfers  \n",
       "905                   Cookies  \n",
       "906                Governance  \n",
       "907                 Ownership  \n",
       "908  Notice of Changing Terms  \n",
       "\n",
       "[909 rows x 6 columns]"
      ]
     },
     "execution_count": 46,
     "metadata": {},
     "output_type": "execute_result"
    }
   ],
   "source": [
    "data=data.dropna()\n",
    "data.reset_index(drop=True)"
   ]
  },
  {
   "cell_type": "code",
   "execution_count": 47,
   "metadata": {
    "colab": {
     "base_uri": "https://localhost:8080/",
     "height": 139
    },
    "colab_type": "code",
    "executionInfo": {
     "elapsed": 273,
     "status": "ok",
     "timestamp": 1591649294968,
     "user": {
      "displayName": "Nayef abu tayoun",
      "photoUrl": "",
      "userId": "12465418842917592865"
     },
     "user_tz": 240
    },
    "id": "Fzv5aNn-io_n",
    "outputId": "d97e0521-5e58-45bc-ac36-08110fe02c99"
   },
   "outputs": [
    {
     "data": {
      "text/plain": [
       "CompanyName    0\n",
       "Point          0\n",
       "QuoteText      0\n",
       "QuoteDoc       0\n",
       "LaymanTerm     0\n",
       "Index Topic    0\n",
       "dtype: int64"
      ]
     },
     "execution_count": 47,
     "metadata": {},
     "output_type": "execute_result"
    }
   ],
   "source": [
    "data.isnull().sum()"
   ]
  },
  {
   "cell_type": "code",
   "execution_count": 48,
   "metadata": {
    "colab": {
     "base_uri": "https://localhost:8080/",
     "height": 52
    },
    "colab_type": "code",
    "executionInfo": {
     "elapsed": 1414,
     "status": "ok",
     "timestamp": 1591649301423,
     "user": {
      "displayName": "Nayef abu tayoun",
      "photoUrl": "",
      "userId": "12465418842917592865"
     },
     "user_tz": 240
    },
    "id": "N0-aohxHiruF",
    "outputId": "af677c4e-ca21-4eaf-df40-1d3747e7fd21"
   },
   "outputs": [
    {
     "name": "stderr",
     "output_type": "stream",
     "text": [
      "[nltk_data] Downloading package punkt to\n",
      "[nltk_data]     /Users/nayefaboutayoun/nltk_data...\n",
      "[nltk_data]   Package punkt is already up-to-date!\n"
     ]
    }
   ],
   "source": [
    "nltk.download('punkt')\n",
    "sentences = []\n",
    "for row in data.itertuples():\n",
    "    for sentence in sent_tokenize(row[3]):\n",
    "        if type(sentence) != float:\n",
    "            if sentence != '':\n",
    "                sentences.append((row[6], sentence))\n",
    "data_sentenced = pd.DataFrame(sentences, columns=['Index Topic', 'Sentence'])"
   ]
  },
  {
   "cell_type": "code",
   "execution_count": 49,
   "metadata": {
    "colab": {
     "base_uri": "https://localhost:8080/",
     "height": 34
    },
    "colab_type": "code",
    "executionInfo": {
     "elapsed": 202,
     "status": "ok",
     "timestamp": 1591649303744,
     "user": {
      "displayName": "Nayef abu tayoun",
      "photoUrl": "",
      "userId": "12465418842917592865"
     },
     "user_tz": 240
    },
    "id": "UdXKMuKUliAp",
    "outputId": "62424292-20c0-45cf-bd3f-026f464de823"
   },
   "outputs": [
    {
     "data": {
      "text/plain": [
       "Pandas(Index=2138, CompanyName='imdb', Point='neutral', QuoteText='Last Updated, February 8, 2018</b>', QuoteDoc='Privacy Policy', LaymanTerm='There is a date of the last update of the terms', _6='Notice of Changing Terms')"
      ]
     },
     "execution_count": 49,
     "metadata": {},
     "output_type": "execute_result"
    }
   ],
   "source": [
    "row"
   ]
  },
  {
   "cell_type": "code",
   "execution_count": 51,
   "metadata": {
    "colab": {
     "base_uri": "https://localhost:8080/",
     "height": 208
    },
    "colab_type": "code",
    "executionInfo": {
     "elapsed": 3916,
     "status": "ok",
     "timestamp": 1591649309310,
     "user": {
      "displayName": "Nayef abu tayoun",
      "photoUrl": "",
      "userId": "12465418842917592865"
     },
     "user_tz": 240
    },
    "id": "O35WZM1bivLw",
    "outputId": "f0d507c6-8e98-4a9b-9004-ade04e1c8185"
   },
   "outputs": [
    {
     "name": "stderr",
     "output_type": "stream",
     "text": [
      "[nltk_data] Downloading package stopwords to\n",
      "[nltk_data]     /Users/nayefaboutayoun/nltk_data...\n",
      "[nltk_data]   Package stopwords is already up-to-date!\n",
      "[nltk_data] Downloading package wordnet to\n",
      "[nltk_data]     /Users/nayefaboutayoun/nltk_data...\n",
      "[nltk_data]   Package wordnet is already up-to-date!\n"
     ]
    },
    {
     "data": {
      "text/plain": [
       "array(['Notice of Changing Terms', 'Third Parties', 'Cookies',\n",
       "       'Governance', 'User information', 'Guarantee',\n",
       "       'Right to leave the service', 'Jurisdiction and governing laws',\n",
       "       'Personal Data', 'Ownership', 'Changes',\n",
       "       'Suspension and Censorship', 'Scope of the copyright license',\n",
       "       'Business Transfers', 'Anonymity and Tracking', 'User choice',\n",
       "       'Waiving your right'], dtype=object)"
      ]
     },
     "execution_count": 51,
     "metadata": {},
     "output_type": "execute_result"
    }
   ],
   "source": [
    "data_sentenced['Sentence'] = data_sentenced.apply(lambda x: re.sub('[^0-9a-zA-Z]+', ' ', x['Sentence']), axis=1)\n",
    "data_sentenced['Sentence'] = data_sentenced.apply(lambda x: re.sub(\"^\\d+\\s|\\s\\d+\\s|\\s\\d+$\", \" \", x['Sentence']), axis=1)\n",
    "#remove all tags like <p> etc. in the data frame \"data_sentenced\"\n",
    "data_sentenced['Sentence'] = data_sentenced['Sentence'].str.lower()\n",
    "data_sentenced['Sentence'] = data_sentenced.apply(lambda x: cleanhtml(x['Sentence']), axis=1)\n",
    "#remove stop words\n",
    "nltk.download('stopwords')\n",
    "data_sentenced['Sentence'] = data_sentenced.apply(lambda x: removing_stopwords(x['Sentence']), axis=1)\n",
    "#Lemmaing words\n",
    "nltk.download('wordnet')\n",
    "\n",
    "data_sentenced['Sentence'] = data_sentenced.apply(lambda x: Lemmating(x['Sentence']), axis=1)\n",
    "data_sentenced['Index Topic'].unique()"
   ]
  },
  {
   "cell_type": "code",
   "execution_count": 64,
   "metadata": {
    "colab": {
     "base_uri": "https://localhost:8080/",
     "height": 175
    },
    "colab_type": "code",
    "executionInfo": {
     "elapsed": 273,
     "status": "ok",
     "timestamp": 1591649524479,
     "user": {
      "displayName": "Nayef abu tayoun",
      "photoUrl": "",
      "userId": "12465418842917592865"
     },
     "user_tz": 240
    },
    "id": "yXGFHm-ci1Mw",
    "outputId": "36ca2159-1274-420e-c257-8fc018788b20"
   },
   "outputs": [
    {
     "data": {
      "text/html": [
       "<div>\n",
       "<style scoped>\n",
       "    .dataframe tbody tr th:only-of-type {\n",
       "        vertical-align: middle;\n",
       "    }\n",
       "\n",
       "    .dataframe tbody tr th {\n",
       "        vertical-align: top;\n",
       "    }\n",
       "\n",
       "    .dataframe thead th {\n",
       "        text-align: right;\n",
       "    }\n",
       "</style>\n",
       "<table border=\"1\" class=\"dataframe\">\n",
       "  <thead>\n",
       "    <tr style=\"text-align: right;\">\n",
       "      <th></th>\n",
       "      <th>Index Topic</th>\n",
       "    </tr>\n",
       "  </thead>\n",
       "  <tbody>\n",
       "    <tr>\n",
       "      <td>count</td>\n",
       "      <td>1581.000000</td>\n",
       "    </tr>\n",
       "    <tr>\n",
       "      <td>mean</td>\n",
       "      <td>6.148640</td>\n",
       "    </tr>\n",
       "    <tr>\n",
       "      <td>std</td>\n",
       "      <td>4.246225</td>\n",
       "    </tr>\n",
       "    <tr>\n",
       "      <td>min</td>\n",
       "      <td>0.000000</td>\n",
       "    </tr>\n",
       "    <tr>\n",
       "      <td>25%</td>\n",
       "      <td>2.000000</td>\n",
       "    </tr>\n",
       "    <tr>\n",
       "      <td>50%</td>\n",
       "      <td>6.000000</td>\n",
       "    </tr>\n",
       "    <tr>\n",
       "      <td>75%</td>\n",
       "      <td>10.000000</td>\n",
       "    </tr>\n",
       "    <tr>\n",
       "      <td>max</td>\n",
       "      <td>16.000000</td>\n",
       "    </tr>\n",
       "  </tbody>\n",
       "</table>\n",
       "</div>"
      ],
      "text/plain": [
       "       Index Topic\n",
       "count  1581.000000\n",
       "mean      6.148640\n",
       "std       4.246225\n",
       "min       0.000000\n",
       "25%       2.000000\n",
       "50%       6.000000\n",
       "75%      10.000000\n",
       "max      16.000000"
      ]
     },
     "execution_count": 64,
     "metadata": {},
     "output_type": "execute_result"
    }
   ],
   "source": [
    "data_sentenced.describe()"
   ]
  },
  {
   "cell_type": "code",
   "execution_count": 65,
   "metadata": {
    "colab": {
     "base_uri": "https://localhost:8080/",
     "height": 206
    },
    "colab_type": "code",
    "executionInfo": {
     "elapsed": 260,
     "status": "ok",
     "timestamp": 1591649528008,
     "user": {
      "displayName": "Nayef abu tayoun",
      "photoUrl": "",
      "userId": "12465418842917592865"
     },
     "user_tz": 240
    },
    "id": "aS7OasM_jAo5",
    "outputId": "21a2135b-aa8e-4aaf-c505-ac32fc41de96"
   },
   "outputs": [
    {
     "data": {
      "text/html": [
       "<div>\n",
       "<style scoped>\n",
       "    .dataframe tbody tr th:only-of-type {\n",
       "        vertical-align: middle;\n",
       "    }\n",
       "\n",
       "    .dataframe tbody tr th {\n",
       "        vertical-align: top;\n",
       "    }\n",
       "\n",
       "    .dataframe thead th {\n",
       "        text-align: right;\n",
       "    }\n",
       "</style>\n",
       "<table border=\"1\" class=\"dataframe\">\n",
       "  <thead>\n",
       "    <tr style=\"text-align: right;\">\n",
       "      <th></th>\n",
       "      <th>Index Topic</th>\n",
       "      <th>Sentence</th>\n",
       "    </tr>\n",
       "  </thead>\n",
       "  <tbody>\n",
       "    <tr>\n",
       "      <td>0</td>\n",
       "      <td>0</td>\n",
       "      <td>p scratch privacy policy last updated may 2018</td>\n",
       "    </tr>\n",
       "    <tr>\n",
       "      <td>1</td>\n",
       "      <td>1</td>\n",
       "      <td>ul sharing third party p share information thi...</td>\n",
       "    </tr>\n",
       "    <tr>\n",
       "      <td>2</td>\n",
       "      <td>1</td>\n",
       "      <td>service provider need access information perfo...</td>\n",
       "    </tr>\n",
       "    <tr>\n",
       "      <td>3</td>\n",
       "      <td>1</td>\n",
       "      <td>may also share information third party agreed ...</td>\n",
       "    </tr>\n",
       "    <tr>\n",
       "      <td>4</td>\n",
       "      <td>1</td>\n",
       "      <td>may give third party apps access account infor...</td>\n",
       "    </tr>\n",
       "  </tbody>\n",
       "</table>\n",
       "</div>"
      ],
      "text/plain": [
       "   Index Topic                                           Sentence\n",
       "0            0     p scratch privacy policy last updated may 2018\n",
       "1            1  ul sharing third party p share information thi...\n",
       "2            1  service provider need access information perfo...\n",
       "3            1  may also share information third party agreed ...\n",
       "4            1  may give third party apps access account infor..."
      ]
     },
     "execution_count": 65,
     "metadata": {},
     "output_type": "execute_result"
    }
   ],
   "source": [
    "data_sentenced.head()"
   ]
  },
  {
   "cell_type": "code",
   "execution_count": 66,
   "metadata": {
    "colab": {
     "base_uri": "https://localhost:8080/",
     "height": 424
    },
    "colab_type": "code",
    "executionInfo": {
     "elapsed": 265,
     "status": "ok",
     "timestamp": 1591649530299,
     "user": {
      "displayName": "Nayef abu tayoun",
      "photoUrl": "",
      "userId": "12465418842917592865"
     },
     "user_tz": 240
    },
    "id": "inOwEO2roXzY",
    "outputId": "f0dde0d9-40d0-4aaf-8e0f-6a31697cef02"
   },
   "outputs": [
    {
     "data": {
      "text/html": [
       "<div>\n",
       "<style scoped>\n",
       "    .dataframe tbody tr th:only-of-type {\n",
       "        vertical-align: middle;\n",
       "    }\n",
       "\n",
       "    .dataframe tbody tr th {\n",
       "        vertical-align: top;\n",
       "    }\n",
       "\n",
       "    .dataframe thead th {\n",
       "        text-align: right;\n",
       "    }\n",
       "</style>\n",
       "<table border=\"1\" class=\"dataframe\">\n",
       "  <thead>\n",
       "    <tr style=\"text-align: right;\">\n",
       "      <th></th>\n",
       "      <th>Index Topic</th>\n",
       "      <th>Sentence</th>\n",
       "    </tr>\n",
       "  </thead>\n",
       "  <tbody>\n",
       "    <tr>\n",
       "      <td>0</td>\n",
       "      <td>0</td>\n",
       "      <td>p scratch privacy policy last updated may 2018</td>\n",
       "    </tr>\n",
       "    <tr>\n",
       "      <td>1</td>\n",
       "      <td>1</td>\n",
       "      <td>ul sharing third party p share information thi...</td>\n",
       "    </tr>\n",
       "    <tr>\n",
       "      <td>2</td>\n",
       "      <td>1</td>\n",
       "      <td>service provider need access information perfo...</td>\n",
       "    </tr>\n",
       "    <tr>\n",
       "      <td>3</td>\n",
       "      <td>1</td>\n",
       "      <td>may also share information third party agreed ...</td>\n",
       "    </tr>\n",
       "    <tr>\n",
       "      <td>4</td>\n",
       "      <td>1</td>\n",
       "      <td>may give third party apps access account infor...</td>\n",
       "    </tr>\n",
       "    <tr>\n",
       "      <td>...</td>\n",
       "      <td>...</td>\n",
       "      <td>...</td>\n",
       "    </tr>\n",
       "    <tr>\n",
       "      <td>1576</td>\n",
       "      <td>3</td>\n",
       "      <td>promotional offer b sometimes send offer selec...</td>\n",
       "    </tr>\n",
       "    <tr>\n",
       "      <td>1577</td>\n",
       "      <td>3</td>\n",
       "      <td>give business name e mail address</td>\n",
       "    </tr>\n",
       "    <tr>\n",
       "      <td>1578</td>\n",
       "      <td>3</td>\n",
       "      <td>want receive offer please use user administrat...</td>\n",
       "    </tr>\n",
       "    <tr>\n",
       "      <td>1579</td>\n",
       "      <td>9</td>\n",
       "      <td>imdb right obligation monitor edit remove acti...</td>\n",
       "    </tr>\n",
       "    <tr>\n",
       "      <td>1580</td>\n",
       "      <td>0</td>\n",
       "      <td>last updated february 2018 b</td>\n",
       "    </tr>\n",
       "  </tbody>\n",
       "</table>\n",
       "<p>1581 rows × 2 columns</p>\n",
       "</div>"
      ],
      "text/plain": [
       "      Index Topic                                           Sentence\n",
       "0               0     p scratch privacy policy last updated may 2018\n",
       "1               1  ul sharing third party p share information thi...\n",
       "2               1  service provider need access information perfo...\n",
       "3               1  may also share information third party agreed ...\n",
       "4               1  may give third party apps access account infor...\n",
       "...           ...                                                ...\n",
       "1576            3  promotional offer b sometimes send offer selec...\n",
       "1577            3                  give business name e mail address\n",
       "1578            3  want receive offer please use user administrat...\n",
       "1579            9  imdb right obligation monitor edit remove acti...\n",
       "1580            0                       last updated february 2018 b\n",
       "\n",
       "[1581 rows x 2 columns]"
      ]
     },
     "execution_count": 66,
     "metadata": {},
     "output_type": "execute_result"
    }
   ],
   "source": [
    "l=[]\n",
    "i=0\n",
    "for topic in data_sentenced['Index Topic'].unique ():\n",
    "  data_sentenced['Index Topic'].replace(topic, i, inplace=True)\n",
    "  i=i+1\n",
    "  l.append(topic,)\n",
    "data_sentenced"
   ]
  },
  {
   "cell_type": "code",
   "execution_count": 67,
   "metadata": {
    "colab": {
     "base_uri": "https://localhost:8080/",
     "height": 34
    },
    "colab_type": "code",
    "executionInfo": {
     "elapsed": 271,
     "status": "ok",
     "timestamp": 1591649532714,
     "user": {
      "displayName": "Nayef abu tayoun",
      "photoUrl": "",
      "userId": "12465418842917592865"
     },
     "user_tz": 240
    },
    "id": "loR7L_fUjDLm",
    "outputId": "186f5c13-3526-44c8-b332-8865e0344eab"
   },
   "outputs": [
    {
     "data": {
      "text/plain": [
       "36"
      ]
     },
     "execution_count": 67,
     "metadata": {},
     "output_type": "execute_result"
    }
   ],
   "source": [
    "len(data_sentenced.loc[data_sentenced['Index Topic']==5])"
   ]
  },
  {
   "cell_type": "code",
   "execution_count": 68,
   "metadata": {
    "colab": {
     "base_uri": "https://localhost:8080/",
     "height": 173
    },
    "colab_type": "code",
    "executionInfo": {
     "elapsed": 298,
     "status": "ok",
     "timestamp": 1591649535256,
     "user": {
      "displayName": "Nayef abu tayoun",
      "photoUrl": "",
      "userId": "12465418842917592865"
     },
     "user_tz": 240
    },
    "id": "81N_8ebNjIpf",
    "outputId": "b0329603-8dcf-442e-de6b-824e118c8b65"
   },
   "outputs": [
    {
     "name": "stdout",
     "output_type": "stream",
     "text": [
      "<class 'pandas.core.frame.DataFrame'>\n",
      "RangeIndex: 1581 entries, 0 to 1580\n",
      "Data columns (total 2 columns):\n",
      "Index Topic    1581 non-null int64\n",
      "Sentence       1581 non-null object\n",
      "dtypes: int64(1), object(1)\n",
      "memory usage: 24.8+ KB\n"
     ]
    }
   ],
   "source": [
    "data_sentenced.info()"
   ]
  },
  {
   "cell_type": "markdown",
   "metadata": {},
   "source": [
    "## Step 3: Creating Training and Testing Dataset "
   ]
  },
  {
   "cell_type": "code",
   "execution_count": 69,
   "metadata": {
    "colab": {},
    "colab_type": "code",
    "id": "pM_ilLC4jLFz"
   },
   "outputs": [],
   "source": [
    "X, y = data_sentenced['Sentence'], data_sentenced['Index Topic']\n",
    "\n",
    "X_train, X_val, y_train, y_val = sklearn.model_selection.train_test_split(X, y, test_size=0.2, random_state=42)"
   ]
  },
  {
   "cell_type": "code",
   "execution_count": 70,
   "metadata": {
    "colab": {
     "base_uri": "https://localhost:8080/",
     "height": 424
    },
    "colab_type": "code",
    "executionInfo": {
     "elapsed": 286,
     "status": "ok",
     "timestamp": 1591649539382,
     "user": {
      "displayName": "Nayef abu tayoun",
      "photoUrl": "",
      "userId": "12465418842917592865"
     },
     "user_tz": 240
    },
    "id": "rsrKy0bLjNnm",
    "outputId": "47624603-91e3-4410-9bd8-7ae64e2b78bf"
   },
   "outputs": [
    {
     "data": {
      "text/html": [
       "<div>\n",
       "<style scoped>\n",
       "    .dataframe tbody tr th:only-of-type {\n",
       "        vertical-align: middle;\n",
       "    }\n",
       "\n",
       "    .dataframe tbody tr th {\n",
       "        vertical-align: top;\n",
       "    }\n",
       "\n",
       "    .dataframe thead th {\n",
       "        text-align: right;\n",
       "    }\n",
       "</style>\n",
       "<table border=\"1\" class=\"dataframe\">\n",
       "  <thead>\n",
       "    <tr style=\"text-align: right;\">\n",
       "      <th></th>\n",
       "      <th>Sentence</th>\n",
       "      <th>Index Topic</th>\n",
       "    </tr>\n",
       "  </thead>\n",
       "  <tbody>\n",
       "    <tr>\n",
       "      <td>1227</td>\n",
       "      <td>case error report data generate</td>\n",
       "      <td>8</td>\n",
       "    </tr>\n",
       "    <tr>\n",
       "      <td>930</td>\n",
       "      <td>brainly make warranty brainly service product ...</td>\n",
       "      <td>5</td>\n",
       "    </tr>\n",
       "    <tr>\n",
       "      <td>1520</td>\n",
       "      <td>agree expense indemnify defend hold harmless n...</td>\n",
       "      <td>3</td>\n",
       "    </tr>\n",
       "    <tr>\n",
       "      <td>236</td>\n",
       "      <td>ryver licensors supplier disclaim warranty whe...</td>\n",
       "      <td>5</td>\n",
       "    </tr>\n",
       "    <tr>\n",
       "      <td>1343</td>\n",
       "      <td>however please note system ever completely secure</td>\n",
       "      <td>5</td>\n",
       "    </tr>\n",
       "    <tr>\n",
       "      <td>...</td>\n",
       "      <td>...</td>\n",
       "      <td>...</td>\n",
       "    </tr>\n",
       "    <tr>\n",
       "      <td>1130</td>\n",
       "      <td>may modify contract privacy policy cooky polic...</td>\n",
       "      <td>10</td>\n",
       "    </tr>\n",
       "    <tr>\n",
       "      <td>1294</td>\n",
       "      <td>collect strong p p information necessary use s...</td>\n",
       "      <td>14</td>\n",
       "    </tr>\n",
       "    <tr>\n",
       "      <td>860</td>\n",
       "      <td>third party may collect information online act...</td>\n",
       "      <td>2</td>\n",
       "    </tr>\n",
       "    <tr>\n",
       "      <td>1459</td>\n",
       "      <td>p creating account platform free opt receiving...</td>\n",
       "      <td>3</td>\n",
       "    </tr>\n",
       "    <tr>\n",
       "      <td>1126</td>\n",
       "      <td>legal successor b</td>\n",
       "      <td>13</td>\n",
       "    </tr>\n",
       "  </tbody>\n",
       "</table>\n",
       "<p>1264 rows × 2 columns</p>\n",
       "</div>"
      ],
      "text/plain": [
       "                                               Sentence  Index Topic\n",
       "1227                    case error report data generate            8\n",
       "930   brainly make warranty brainly service product ...            5\n",
       "1520  agree expense indemnify defend hold harmless n...            3\n",
       "236   ryver licensors supplier disclaim warranty whe...            5\n",
       "1343  however please note system ever completely secure            5\n",
       "...                                                 ...          ...\n",
       "1130  may modify contract privacy policy cooky polic...           10\n",
       "1294  collect strong p p information necessary use s...           14\n",
       "860   third party may collect information online act...            2\n",
       "1459  p creating account platform free opt receiving...            3\n",
       "1126                                  legal successor b           13\n",
       "\n",
       "[1264 rows x 2 columns]"
      ]
     },
     "execution_count": 70,
     "metadata": {},
     "output_type": "execute_result"
    }
   ],
   "source": [
    "train_dataset =  pd.concat([X_train, y_train], axis=1)\n",
    "train_dataset"
   ]
  },
  {
   "cell_type": "markdown",
   "metadata": {},
   "source": [
    "## Step 4: Building the Model using roBerta "
   ]
  },
  {
   "cell_type": "code",
   "execution_count": 75,
   "metadata": {
    "colab": {
     "base_uri": "https://localhost:8080/",
     "height": 487,
     "referenced_widgets": [
      "2fc8297615274310b558d4f78e5275f2",
      "ca86b03b076c4dfe865f656fd8b8a671",
      "a6016178b3794c8781055022e2615806",
      "d492bc24a6c2433186faed16e5ab3e4d",
      "e3354fd110ba4044b83eb35e96c2499a",
      "bc830aab8e364b8a8118f24b65318f7f",
      "45d2f7e610364b06ba1f5264f13b785c",
      "68aa00fbc1be4cbd92ccbcb894c4f8e3",
      "46ab04a974c2498aaf57cbd951566972",
      "87cfe131dfbd4e3aaba83870e488ac81",
      "0443fa6ab57f43518ee5b072f7a9c8d8",
      "78d4fe6bb51840c9a5fe00cba869ba64",
      "c626911b5ca041388f077e45141bc526",
      "fb3de4234b0d4da88595e035f2897934",
      "7b137c93ca9a48d684f87510c201ba13",
      "f3c0a336b35545a6becae65f8f8ca8db",
      "d40c1cbb202a47b7b88908691a1cd612",
      "dfd23f2747ba41ffb150063545f3f55e",
      "3cec44f1524b40c2be04a0da0f182c6b",
      "8735e21144364751a63d890f7ee8af05",
      "aa3dd6ed24f544a7819799730b4679ed",
      "2d3b6f03ca7e4e10a1ac41e2efdd79a7",
      "31f52a51623b43beb2690030d5cf59b7",
      "6a03693e980f47c09c1a9f11bd31ba57",
      "9a64511e3c7a4deebd887e6ffec0eb82",
      "603cc88538da489ab46dba74afc5fda5",
      "94cf83b739524510aa2e1323d5033a96",
      "b00a0cac21454efea73cf1d317d6b4c2",
      "115b6ea645414080bff5a4959c8e908f",
      "b2d469127188474cb56b4cf337e3a8ef",
      "f9ad530c9efd4e43a7f20c4202f50938",
      "9a942e50d1ae47dcb85ef3386d92d7a6",
      "590eac561391458ba9d0ced0298653c0",
      "e6aafa4615c5428cb6e917295351b6cc",
      "67bea2f8d310412e9484162e22489403",
      "51f928a4b8844c55ac503efd21ff0fa7",
      "61b15702390c40a59c89988c1b1ea3bc",
      "c96f9bbeb3544c7f902f78ab52dce693",
      "3b25a4e7c31246f5acba029b2aaccbc6",
      "ab43f64c78a14aecb8bfb23aff4d1e0b",
      "c67ce32162f0481dbae7012d1eabb5ba",
      "ce95c805958e4f03a62b75560c62012e",
      "1d6fa8c71e9a48a292cddb71d0010156",
      "fc828299e53f49ceb57b92b00507913d",
      "e6186fe88bd848e0bd885e8fac4e7592",
      "fdd1656369944bc78126f3b86aa6482f",
      "2a3f99176f7d4029932e744c6d926a4d",
      "bc1eda86746d4aa6a0c6d29a1819ed5a",
      "a9e471610e914aabaf5493c3dcf1cdc9",
      "1f52ed36987c408a95dde7f2494a4ac4",
      "48f31cba8fe8496bb0f87be021dc1b4e",
      "9cc8f355115449289da10350980ac695",
      "b11b79fb22f548a78fd031cc0e884ff8",
      "a4e5b8089f7242b3af883379b83703a3",
      "c593afea9cbe4f9abf853649907d35f2",
      "793c8c193c844f6d9eb92c540ad26de9"
     ]
    },
    "colab_type": "code",
    "executionInfo": {
     "elapsed": 2500390,
     "status": "ok",
     "timestamp": 1591652043992,
     "user": {
      "displayName": "Nayef abu tayoun",
      "photoUrl": "",
      "userId": "12465418842917592865"
     },
     "user_tz": 240
    },
    "id": "fjLCQk3cjThN",
    "outputId": "e347c0e3-6668-4d49-cd46-af7648acbadb"
   },
   "outputs": [
    {
     "data": {
      "application/vnd.jupyter.widget-view+json": {
       "model_id": "f520feaeedab4d66ae0cd609110b43c6",
       "version_major": 2,
       "version_minor": 0
      },
      "text/plain": [
       "HBox(children=(FloatProgress(value=0.0, max=1264.0), HTML(value='')))"
      ]
     },
     "metadata": {},
     "output_type": "display_data"
    },
    {
     "name": "stdout",
     "output_type": "stream",
     "text": [
      "\n"
     ]
    },
    {
     "data": {
      "application/vnd.jupyter.widget-view+json": {
       "model_id": "1401bb51b0de47009089abd095c979c7",
       "version_major": 2,
       "version_minor": 0
      },
      "text/plain": [
       "HBox(children=(FloatProgress(value=0.0, description='Epoch', max=4.0, style=ProgressStyle(description_width='i…"
      ]
     },
     "metadata": {},
     "output_type": "display_data"
    },
    {
     "data": {
      "application/vnd.jupyter.widget-view+json": {
       "model_id": "e987831c3f3d492da7bf9ba5b0479e0c",
       "version_major": 2,
       "version_minor": 0
      },
      "text/plain": [
       "HBox(children=(FloatProgress(value=0.0, description='Current iteration', max=632.0, style=ProgressStyle(descri…"
      ]
     },
     "metadata": {},
     "output_type": "display_data"
    },
    {
     "name": "stdout",
     "output_type": "stream",
     "text": [
      "Running loss: 1.036182\n"
     ]
    },
    {
     "data": {
      "application/vnd.jupyter.widget-view+json": {
       "model_id": "07ff947d043e4763bfcef7500ee8c0ac",
       "version_major": 2,
       "version_minor": 0
      },
      "text/plain": [
       "HBox(children=(FloatProgress(value=0.0, description='Current iteration', max=632.0, style=ProgressStyle(descri…"
      ]
     },
     "metadata": {},
     "output_type": "display_data"
    },
    {
     "name": "stdout",
     "output_type": "stream",
     "text": [
      "Running loss: 0.005815\n"
     ]
    },
    {
     "data": {
      "application/vnd.jupyter.widget-view+json": {
       "model_id": "8e6df540eea5428e9be8eacdf8b5cd0d",
       "version_major": 2,
       "version_minor": 0
      },
      "text/plain": [
       "HBox(children=(FloatProgress(value=0.0, description='Current iteration', max=632.0, style=ProgressStyle(descri…"
      ]
     },
     "metadata": {},
     "output_type": "display_data"
    },
    {
     "name": "stdout",
     "output_type": "stream",
     "text": [
      "Running loss: 0.001643\n"
     ]
    },
    {
     "data": {
      "application/vnd.jupyter.widget-view+json": {
       "model_id": "0d6eb2d902374b82a961103ce590fd06",
       "version_major": 2,
       "version_minor": 0
      },
      "text/plain": [
       "HBox(children=(FloatProgress(value=0.0, description='Current iteration', max=632.0, style=ProgressStyle(descri…"
      ]
     },
     "metadata": {},
     "output_type": "display_data"
    },
    {
     "name": "stdout",
     "output_type": "stream",
     "text": [
      "Running loss: 0.785353\n",
      "\n"
     ]
    }
   ],
   "source": [
    "from simpletransformers.classification import ClassificationModel\n",
    "\n",
    "\n",
    "# Create a Roberta + distillation  \n",
    "args={'output_dir': 'outputs/','reprocess_input_data': True, 'max_seq_length': 300, 'num_train_epochs': 4, 'fp16': False, 'train_batch_size': 2, 'overwrite_output_dir': True}\n",
    "\n",
    "roberta_model = ClassificationModel('roberta', 'distilroberta-base', num_labels=17, use_cuda=False, cuda_device=0, args=args)\n",
    "\n",
    "# Train the model\n",
    "roberta_model.train_model(train_dataset)\n",
    "\n",
    "# Evaluate the model\n",
    "#result, model_outputs, wrong_predictions = roberta_model.eval_model(eval_dataset, acc=sklearn.metrics.f1_score)"
   ]
  },
  {
   "cell_type": "markdown",
   "metadata": {},
   "source": [
    "## Step 5: Evaluating the Model"
   ]
  },
  {
   "cell_type": "code",
   "execution_count": 76,
   "metadata": {
    "colab": {
     "base_uri": "https://localhost:8080/",
     "height": 169,
     "referenced_widgets": [
      "85c3fcea3936472ab188f80937e8ec69",
      "ec3a1c0544644fc887bde58f33c90e34",
      "5d52e1a084634349a93a6fee295358d8",
      "c8c5fed581b944519096225bb9155227",
      "a94cafd104ca4858ad84489825c40110",
      "c0e7e1c7581648b3b0c98bcf425c77af",
      "22969e33e1284a8999f87f1b82c7578a",
      "d01d3270a67640b6a1ebc0a85e1b130f",
      "6dc0acef93434baea4dedda24ded4145",
      "aebcb301da774098a364ae64f9869ea9",
      "cd3a7f9b9be14357aa00191dae38e0b9",
      "7d1fef3478104ae487c7a432dc081736",
      "397161162ad345e2af8adb543cea0434",
      "7b6d7fa8fcec43a29c259e033efefdeb",
      "bad13e326e6747fd945f37357a7203ba",
      "1907ea389f444d20973d9a4f59878831"
     ]
    },
    "colab_type": "code",
    "executionInfo": {
     "elapsed": 156793,
     "status": "ok",
     "timestamp": 1591653737302,
     "user": {
      "displayName": "Nayef abu tayoun",
      "photoUrl": "",
      "userId": "12465418842917592865"
     },
     "user_tz": 240
    },
    "id": "auG4iqCDkmws",
    "outputId": "81b75cb7-3f55-42af-a95d-00fd1df33d7c"
   },
   "outputs": [
    {
     "data": {
      "application/vnd.jupyter.widget-view+json": {
       "model_id": "499829bf01444a8ea6da55e2e8f072b2",
       "version_major": 2,
       "version_minor": 0
      },
      "text/plain": [
       "HBox(children=(FloatProgress(value=0.0, max=317.0), HTML(value='')))"
      ]
     },
     "metadata": {},
     "output_type": "display_data"
    },
    {
     "name": "stdout",
     "output_type": "stream",
     "text": [
      "\n"
     ]
    },
    {
     "data": {
      "application/vnd.jupyter.widget-view+json": {
       "model_id": "ebaaf15f541d467f89954ef7c51dd93a",
       "version_major": 2,
       "version_minor": 0
      },
      "text/plain": [
       "HBox(children=(FloatProgress(value=0.0, max=40.0), HTML(value='')))"
      ]
     },
     "metadata": {},
     "output_type": "display_data"
    },
    {
     "name": "stdout",
     "output_type": "stream",
     "text": [
      "\n"
     ]
    }
   ],
   "source": [
    "eval_dataset = pd.concat([X_val, y_val], axis=1)\n",
    "from sklearn.metrics import f1_score, accuracy_score\n",
    "\n",
    "\n",
    "def f1_multiclass(labels, preds):\n",
    "    return f1_score(labels, preds, average='micro')\n",
    "\n",
    "result, model_outputs, wrong_predictions = roberta_model.eval_model(eval_dataset, f1=f1_multiclass, acc=accuracy_score)"
   ]
  },
  {
   "cell_type": "code",
   "execution_count": 77,
   "metadata": {
    "colab": {
     "base_uri": "https://localhost:8080/",
     "height": 85
    },
    "colab_type": "code",
    "executionInfo": {
     "elapsed": 288,
     "status": "ok",
     "timestamp": 1591566484770,
     "user": {
      "displayName": "Nayef abu tayoun",
      "photoUrl": "",
      "userId": "12465418842917592865"
     },
     "user_tz": 240
    },
    "id": "Un_o94jKwTNj",
    "outputId": "21b45058-1f20-4d3e-b032-aae214bbd44b"
   },
   "outputs": [
    {
     "data": {
      "text/plain": [
       "{'mcc': 0.781887092763435,\n",
       " 'f1': 0.804416403785489,\n",
       " 'acc': 0.804416403785489,\n",
       " 'eval_loss': 1.0577090288948967}"
      ]
     },
     "execution_count": 77,
     "metadata": {},
     "output_type": "execute_result"
    }
   ],
   "source": [
    "result"
   ]
  },
  {
   "cell_type": "markdown",
   "metadata": {},
   "source": [
    "## Step 6: Saving the Trained Model Parameters"
   ]
  },
  {
   "cell_type": "code",
   "execution_count": 79,
   "metadata": {
    "colab": {},
    "colab_type": "code",
    "id": "EYAJO6Q6dTvF"
   },
   "outputs": [],
   "source": [
    "#Saving the classification \n",
    "with open('roberta_model.pickle','wb') as f:\n",
    "    pickle.dump(roberta_model,f)\n"
   ]
  }
 ],
 "metadata": {
  "colab": {
   "authorship_tag": "ABX9TyPjTS5XkemwcdtNgMZT6QwI",
   "collapsed_sections": [],
   "name": "Copy of Model-2.ipynb",
   "provenance": [
    {
     "file_id": "1EHtz76xTVdZsEL4gk8Et4NltWlYwJtp7",
     "timestamp": 1591667397715
    }
   ]
  },
  "kernelspec": {
   "display_name": "Python 3",
   "language": "python",
   "name": "python3"
  },
  "language_info": {
   "codemirror_mode": {
    "name": "ipython",
    "version": 3
   },
   "file_extension": ".py",
   "mimetype": "text/x-python",
   "name": "python",
   "nbconvert_exporter": "python",
   "pygments_lexer": "ipython3",
   "version": "3.7.4"
  },
  "widgets": {
   "application/vnd.jupyter.widget-state+json": {
    "0443fa6ab57f43518ee5b072f7a9c8d8": {
     "model_module": "@jupyter-widgets/controls",
     "model_name": "FloatProgressModel",
     "state": {
      "_dom_classes": [],
      "_model_module": "@jupyter-widgets/controls",
      "_model_module_version": "1.5.0",
      "_model_name": "FloatProgressModel",
      "_view_count": null,
      "_view_module": "@jupyter-widgets/controls",
      "_view_module_version": "1.5.0",
      "_view_name": "ProgressView",
      "bar_style": "success",
      "description": "Downloading: 100%",
      "description_tooltip": null,
      "layout": "IPY_MODEL_fb3de4234b0d4da88595e035f2897934",
      "max": 331070498,
      "min": 0,
      "orientation": "horizontal",
      "style": "IPY_MODEL_c626911b5ca041388f077e45141bc526",
      "value": 331070498
     }
    },
    "115b6ea645414080bff5a4959c8e908f": {
     "model_module": "@jupyter-widgets/controls",
     "model_name": "ProgressStyleModel",
     "state": {
      "_model_module": "@jupyter-widgets/controls",
      "_model_module_version": "1.5.0",
      "_model_name": "ProgressStyleModel",
      "_view_count": null,
      "_view_module": "@jupyter-widgets/base",
      "_view_module_version": "1.2.0",
      "_view_name": "StyleView",
      "bar_color": null,
      "description_width": "initial"
     }
    },
    "1907ea389f444d20973d9a4f59878831": {
     "model_module": "@jupyter-widgets/base",
     "model_name": "LayoutModel",
     "state": {
      "_model_module": "@jupyter-widgets/base",
      "_model_module_version": "1.2.0",
      "_model_name": "LayoutModel",
      "_view_count": null,
      "_view_module": "@jupyter-widgets/base",
      "_view_module_version": "1.2.0",
      "_view_name": "LayoutView",
      "align_content": null,
      "align_items": null,
      "align_self": null,
      "border": null,
      "bottom": null,
      "display": null,
      "flex": null,
      "flex_flow": null,
      "grid_area": null,
      "grid_auto_columns": null,
      "grid_auto_flow": null,
      "grid_auto_rows": null,
      "grid_column": null,
      "grid_gap": null,
      "grid_row": null,
      "grid_template_areas": null,
      "grid_template_columns": null,
      "grid_template_rows": null,
      "height": null,
      "justify_content": null,
      "justify_items": null,
      "left": null,
      "margin": null,
      "max_height": null,
      "max_width": null,
      "min_height": null,
      "min_width": null,
      "object_fit": null,
      "object_position": null,
      "order": null,
      "overflow": null,
      "overflow_x": null,
      "overflow_y": null,
      "padding": null,
      "right": null,
      "top": null,
      "visibility": null,
      "width": null
     }
    },
    "1d6fa8c71e9a48a292cddb71d0010156": {
     "model_module": "@jupyter-widgets/controls",
     "model_name": "FloatProgressModel",
     "state": {
      "_dom_classes": [],
      "_model_module": "@jupyter-widgets/controls",
      "_model_module_version": "1.5.0",
      "_model_name": "FloatProgressModel",
      "_view_count": null,
      "_view_module": "@jupyter-widgets/controls",
      "_view_module_version": "1.5.0",
      "_view_name": "ProgressView",
      "bar_style": "success",
      "description": "Epoch: 100%",
      "description_tooltip": null,
      "layout": "IPY_MODEL_fdd1656369944bc78126f3b86aa6482f",
      "max": 1,
      "min": 0,
      "orientation": "horizontal",
      "style": "IPY_MODEL_e6186fe88bd848e0bd885e8fac4e7592",
      "value": 1
     }
    },
    "1f52ed36987c408a95dde7f2494a4ac4": {
     "model_module": "@jupyter-widgets/base",
     "model_name": "LayoutModel",
     "state": {
      "_model_module": "@jupyter-widgets/base",
      "_model_module_version": "1.2.0",
      "_model_name": "LayoutModel",
      "_view_count": null,
      "_view_module": "@jupyter-widgets/base",
      "_view_module_version": "1.2.0",
      "_view_name": "LayoutView",
      "align_content": null,
      "align_items": null,
      "align_self": null,
      "border": null,
      "bottom": null,
      "display": null,
      "flex": null,
      "flex_flow": null,
      "grid_area": null,
      "grid_auto_columns": null,
      "grid_auto_flow": null,
      "grid_auto_rows": null,
      "grid_column": null,
      "grid_gap": null,
      "grid_row": null,
      "grid_template_areas": null,
      "grid_template_columns": null,
      "grid_template_rows": null,
      "height": null,
      "justify_content": null,
      "justify_items": null,
      "left": null,
      "margin": null,
      "max_height": null,
      "max_width": null,
      "min_height": null,
      "min_width": null,
      "object_fit": null,
      "object_position": null,
      "order": null,
      "overflow": null,
      "overflow_x": null,
      "overflow_y": null,
      "padding": null,
      "right": null,
      "top": null,
      "visibility": null,
      "width": null
     }
    },
    "22969e33e1284a8999f87f1b82c7578a": {
     "model_module": "@jupyter-widgets/controls",
     "model_name": "DescriptionStyleModel",
     "state": {
      "_model_module": "@jupyter-widgets/controls",
      "_model_module_version": "1.5.0",
      "_model_name": "DescriptionStyleModel",
      "_view_count": null,
      "_view_module": "@jupyter-widgets/base",
      "_view_module_version": "1.2.0",
      "_view_name": "StyleView",
      "description_width": ""
     }
    },
    "2a3f99176f7d4029932e744c6d926a4d": {
     "model_module": "@jupyter-widgets/controls",
     "model_name": "DescriptionStyleModel",
     "state": {
      "_model_module": "@jupyter-widgets/controls",
      "_model_module_version": "1.5.0",
      "_model_name": "DescriptionStyleModel",
      "_view_count": null,
      "_view_module": "@jupyter-widgets/base",
      "_view_module_version": "1.2.0",
      "_view_name": "StyleView",
      "description_width": ""
     }
    },
    "2d3b6f03ca7e4e10a1ac41e2efdd79a7": {
     "model_module": "@jupyter-widgets/base",
     "model_name": "LayoutModel",
     "state": {
      "_model_module": "@jupyter-widgets/base",
      "_model_module_version": "1.2.0",
      "_model_name": "LayoutModel",
      "_view_count": null,
      "_view_module": "@jupyter-widgets/base",
      "_view_module_version": "1.2.0",
      "_view_name": "LayoutView",
      "align_content": null,
      "align_items": null,
      "align_self": null,
      "border": null,
      "bottom": null,
      "display": null,
      "flex": null,
      "flex_flow": null,
      "grid_area": null,
      "grid_auto_columns": null,
      "grid_auto_flow": null,
      "grid_auto_rows": null,
      "grid_column": null,
      "grid_gap": null,
      "grid_row": null,
      "grid_template_areas": null,
      "grid_template_columns": null,
      "grid_template_rows": null,
      "height": null,
      "justify_content": null,
      "justify_items": null,
      "left": null,
      "margin": null,
      "max_height": null,
      "max_width": null,
      "min_height": null,
      "min_width": null,
      "object_fit": null,
      "object_position": null,
      "order": null,
      "overflow": null,
      "overflow_x": null,
      "overflow_y": null,
      "padding": null,
      "right": null,
      "top": null,
      "visibility": null,
      "width": null
     }
    },
    "2fc8297615274310b558d4f78e5275f2": {
     "model_module": "@jupyter-widgets/controls",
     "model_name": "HBoxModel",
     "state": {
      "_dom_classes": [],
      "_model_module": "@jupyter-widgets/controls",
      "_model_module_version": "1.5.0",
      "_model_name": "HBoxModel",
      "_view_count": null,
      "_view_module": "@jupyter-widgets/controls",
      "_view_module_version": "1.5.0",
      "_view_name": "HBoxView",
      "box_style": "",
      "children": [
       "IPY_MODEL_a6016178b3794c8781055022e2615806",
       "IPY_MODEL_d492bc24a6c2433186faed16e5ab3e4d"
      ],
      "layout": "IPY_MODEL_ca86b03b076c4dfe865f656fd8b8a671"
     }
    },
    "31f52a51623b43beb2690030d5cf59b7": {
     "model_module": "@jupyter-widgets/controls",
     "model_name": "DescriptionStyleModel",
     "state": {
      "_model_module": "@jupyter-widgets/controls",
      "_model_module_version": "1.5.0",
      "_model_name": "DescriptionStyleModel",
      "_view_count": null,
      "_view_module": "@jupyter-widgets/base",
      "_view_module_version": "1.2.0",
      "_view_name": "StyleView",
      "description_width": ""
     }
    },
    "397161162ad345e2af8adb543cea0434": {
     "model_module": "@jupyter-widgets/controls",
     "model_name": "ProgressStyleModel",
     "state": {
      "_model_module": "@jupyter-widgets/controls",
      "_model_module_version": "1.5.0",
      "_model_name": "ProgressStyleModel",
      "_view_count": null,
      "_view_module": "@jupyter-widgets/base",
      "_view_module_version": "1.2.0",
      "_view_name": "StyleView",
      "bar_color": null,
      "description_width": "initial"
     }
    },
    "3b25a4e7c31246f5acba029b2aaccbc6": {
     "model_module": "@jupyter-widgets/controls",
     "model_name": "DescriptionStyleModel",
     "state": {
      "_model_module": "@jupyter-widgets/controls",
      "_model_module_version": "1.5.0",
      "_model_name": "DescriptionStyleModel",
      "_view_count": null,
      "_view_module": "@jupyter-widgets/base",
      "_view_module_version": "1.2.0",
      "_view_name": "StyleView",
      "description_width": ""
     }
    },
    "3cec44f1524b40c2be04a0da0f182c6b": {
     "model_module": "@jupyter-widgets/controls",
     "model_name": "FloatProgressModel",
     "state": {
      "_dom_classes": [],
      "_model_module": "@jupyter-widgets/controls",
      "_model_module_version": "1.5.0",
      "_model_name": "FloatProgressModel",
      "_view_count": null,
      "_view_module": "@jupyter-widgets/controls",
      "_view_module_version": "1.5.0",
      "_view_name": "ProgressView",
      "bar_style": "success",
      "description": "Downloading: 100%",
      "description_tooltip": null,
      "layout": "IPY_MODEL_2d3b6f03ca7e4e10a1ac41e2efdd79a7",
      "max": 898823,
      "min": 0,
      "orientation": "horizontal",
      "style": "IPY_MODEL_aa3dd6ed24f544a7819799730b4679ed",
      "value": 898823
     }
    },
    "45d2f7e610364b06ba1f5264f13b785c": {
     "model_module": "@jupyter-widgets/controls",
     "model_name": "DescriptionStyleModel",
     "state": {
      "_model_module": "@jupyter-widgets/controls",
      "_model_module_version": "1.5.0",
      "_model_name": "DescriptionStyleModel",
      "_view_count": null,
      "_view_module": "@jupyter-widgets/base",
      "_view_module_version": "1.2.0",
      "_view_name": "StyleView",
      "description_width": ""
     }
    },
    "46ab04a974c2498aaf57cbd951566972": {
     "model_module": "@jupyter-widgets/controls",
     "model_name": "HBoxModel",
     "state": {
      "_dom_classes": [],
      "_model_module": "@jupyter-widgets/controls",
      "_model_module_version": "1.5.0",
      "_model_name": "HBoxModel",
      "_view_count": null,
      "_view_module": "@jupyter-widgets/controls",
      "_view_module_version": "1.5.0",
      "_view_name": "HBoxView",
      "box_style": "",
      "children": [
       "IPY_MODEL_0443fa6ab57f43518ee5b072f7a9c8d8",
       "IPY_MODEL_78d4fe6bb51840c9a5fe00cba869ba64"
      ],
      "layout": "IPY_MODEL_87cfe131dfbd4e3aaba83870e488ac81"
     }
    },
    "48f31cba8fe8496bb0f87be021dc1b4e": {
     "model_module": "@jupyter-widgets/controls",
     "model_name": "FloatProgressModel",
     "state": {
      "_dom_classes": [],
      "_model_module": "@jupyter-widgets/controls",
      "_model_module_version": "1.5.0",
      "_model_name": "FloatProgressModel",
      "_view_count": null,
      "_view_module": "@jupyter-widgets/controls",
      "_view_module_version": "1.5.0",
      "_view_name": "ProgressView",
      "bar_style": "success",
      "description": "Current iteration: 100%",
      "description_tooltip": null,
      "layout": "IPY_MODEL_a4e5b8089f7242b3af883379b83703a3",
      "max": 632,
      "min": 0,
      "orientation": "horizontal",
      "style": "IPY_MODEL_b11b79fb22f548a78fd031cc0e884ff8",
      "value": 632
     }
    },
    "51f928a4b8844c55ac503efd21ff0fa7": {
     "model_module": "@jupyter-widgets/controls",
     "model_name": "HTMLModel",
     "state": {
      "_dom_classes": [],
      "_model_module": "@jupyter-widgets/controls",
      "_model_module_version": "1.5.0",
      "_model_name": "HTMLModel",
      "_view_count": null,
      "_view_module": "@jupyter-widgets/controls",
      "_view_module_version": "1.5.0",
      "_view_name": "HTMLView",
      "description": "",
      "description_tooltip": null,
      "layout": "IPY_MODEL_ab43f64c78a14aecb8bfb23aff4d1e0b",
      "placeholder": "​",
      "style": "IPY_MODEL_3b25a4e7c31246f5acba029b2aaccbc6",
      "value": " 1264/1264 [00:00&lt;00:00, 1538.88it/s]"
     }
    },
    "590eac561391458ba9d0ced0298653c0": {
     "model_module": "@jupyter-widgets/controls",
     "model_name": "HBoxModel",
     "state": {
      "_dom_classes": [],
      "_model_module": "@jupyter-widgets/controls",
      "_model_module_version": "1.5.0",
      "_model_name": "HBoxModel",
      "_view_count": null,
      "_view_module": "@jupyter-widgets/controls",
      "_view_module_version": "1.5.0",
      "_view_name": "HBoxView",
      "box_style": "",
      "children": [
       "IPY_MODEL_67bea2f8d310412e9484162e22489403",
       "IPY_MODEL_51f928a4b8844c55ac503efd21ff0fa7"
      ],
      "layout": "IPY_MODEL_e6aafa4615c5428cb6e917295351b6cc"
     }
    },
    "5d52e1a084634349a93a6fee295358d8": {
     "model_module": "@jupyter-widgets/controls",
     "model_name": "FloatProgressModel",
     "state": {
      "_dom_classes": [],
      "_model_module": "@jupyter-widgets/controls",
      "_model_module_version": "1.5.0",
      "_model_name": "FloatProgressModel",
      "_view_count": null,
      "_view_module": "@jupyter-widgets/controls",
      "_view_module_version": "1.5.0",
      "_view_name": "ProgressView",
      "bar_style": "success",
      "description": "100%",
      "description_tooltip": null,
      "layout": "IPY_MODEL_c0e7e1c7581648b3b0c98bcf425c77af",
      "max": 317,
      "min": 0,
      "orientation": "horizontal",
      "style": "IPY_MODEL_a94cafd104ca4858ad84489825c40110",
      "value": 317
     }
    },
    "603cc88538da489ab46dba74afc5fda5": {
     "model_module": "@jupyter-widgets/base",
     "model_name": "LayoutModel",
     "state": {
      "_model_module": "@jupyter-widgets/base",
      "_model_module_version": "1.2.0",
      "_model_name": "LayoutModel",
      "_view_count": null,
      "_view_module": "@jupyter-widgets/base",
      "_view_module_version": "1.2.0",
      "_view_name": "LayoutView",
      "align_content": null,
      "align_items": null,
      "align_self": null,
      "border": null,
      "bottom": null,
      "display": null,
      "flex": null,
      "flex_flow": null,
      "grid_area": null,
      "grid_auto_columns": null,
      "grid_auto_flow": null,
      "grid_auto_rows": null,
      "grid_column": null,
      "grid_gap": null,
      "grid_row": null,
      "grid_template_areas": null,
      "grid_template_columns": null,
      "grid_template_rows": null,
      "height": null,
      "justify_content": null,
      "justify_items": null,
      "left": null,
      "margin": null,
      "max_height": null,
      "max_width": null,
      "min_height": null,
      "min_width": null,
      "object_fit": null,
      "object_position": null,
      "order": null,
      "overflow": null,
      "overflow_x": null,
      "overflow_y": null,
      "padding": null,
      "right": null,
      "top": null,
      "visibility": null,
      "width": null
     }
    },
    "61b15702390c40a59c89988c1b1ea3bc": {
     "model_module": "@jupyter-widgets/controls",
     "model_name": "ProgressStyleModel",
     "state": {
      "_model_module": "@jupyter-widgets/controls",
      "_model_module_version": "1.5.0",
      "_model_name": "ProgressStyleModel",
      "_view_count": null,
      "_view_module": "@jupyter-widgets/base",
      "_view_module_version": "1.2.0",
      "_view_name": "StyleView",
      "bar_color": null,
      "description_width": "initial"
     }
    },
    "67bea2f8d310412e9484162e22489403": {
     "model_module": "@jupyter-widgets/controls",
     "model_name": "FloatProgressModel",
     "state": {
      "_dom_classes": [],
      "_model_module": "@jupyter-widgets/controls",
      "_model_module_version": "1.5.0",
      "_model_name": "FloatProgressModel",
      "_view_count": null,
      "_view_module": "@jupyter-widgets/controls",
      "_view_module_version": "1.5.0",
      "_view_name": "ProgressView",
      "bar_style": "success",
      "description": "100%",
      "description_tooltip": null,
      "layout": "IPY_MODEL_c96f9bbeb3544c7f902f78ab52dce693",
      "max": 1264,
      "min": 0,
      "orientation": "horizontal",
      "style": "IPY_MODEL_61b15702390c40a59c89988c1b1ea3bc",
      "value": 1264
     }
    },
    "68aa00fbc1be4cbd92ccbcb894c4f8e3": {
     "model_module": "@jupyter-widgets/base",
     "model_name": "LayoutModel",
     "state": {
      "_model_module": "@jupyter-widgets/base",
      "_model_module_version": "1.2.0",
      "_model_name": "LayoutModel",
      "_view_count": null,
      "_view_module": "@jupyter-widgets/base",
      "_view_module_version": "1.2.0",
      "_view_name": "LayoutView",
      "align_content": null,
      "align_items": null,
      "align_self": null,
      "border": null,
      "bottom": null,
      "display": null,
      "flex": null,
      "flex_flow": null,
      "grid_area": null,
      "grid_auto_columns": null,
      "grid_auto_flow": null,
      "grid_auto_rows": null,
      "grid_column": null,
      "grid_gap": null,
      "grid_row": null,
      "grid_template_areas": null,
      "grid_template_columns": null,
      "grid_template_rows": null,
      "height": null,
      "justify_content": null,
      "justify_items": null,
      "left": null,
      "margin": null,
      "max_height": null,
      "max_width": null,
      "min_height": null,
      "min_width": null,
      "object_fit": null,
      "object_position": null,
      "order": null,
      "overflow": null,
      "overflow_x": null,
      "overflow_y": null,
      "padding": null,
      "right": null,
      "top": null,
      "visibility": null,
      "width": null
     }
    },
    "6a03693e980f47c09c1a9f11bd31ba57": {
     "model_module": "@jupyter-widgets/base",
     "model_name": "LayoutModel",
     "state": {
      "_model_module": "@jupyter-widgets/base",
      "_model_module_version": "1.2.0",
      "_model_name": "LayoutModel",
      "_view_count": null,
      "_view_module": "@jupyter-widgets/base",
      "_view_module_version": "1.2.0",
      "_view_name": "LayoutView",
      "align_content": null,
      "align_items": null,
      "align_self": null,
      "border": null,
      "bottom": null,
      "display": null,
      "flex": null,
      "flex_flow": null,
      "grid_area": null,
      "grid_auto_columns": null,
      "grid_auto_flow": null,
      "grid_auto_rows": null,
      "grid_column": null,
      "grid_gap": null,
      "grid_row": null,
      "grid_template_areas": null,
      "grid_template_columns": null,
      "grid_template_rows": null,
      "height": null,
      "justify_content": null,
      "justify_items": null,
      "left": null,
      "margin": null,
      "max_height": null,
      "max_width": null,
      "min_height": null,
      "min_width": null,
      "object_fit": null,
      "object_position": null,
      "order": null,
      "overflow": null,
      "overflow_x": null,
      "overflow_y": null,
      "padding": null,
      "right": null,
      "top": null,
      "visibility": null,
      "width": null
     }
    },
    "6dc0acef93434baea4dedda24ded4145": {
     "model_module": "@jupyter-widgets/controls",
     "model_name": "HBoxModel",
     "state": {
      "_dom_classes": [],
      "_model_module": "@jupyter-widgets/controls",
      "_model_module_version": "1.5.0",
      "_model_name": "HBoxModel",
      "_view_count": null,
      "_view_module": "@jupyter-widgets/controls",
      "_view_module_version": "1.5.0",
      "_view_name": "HBoxView",
      "box_style": "",
      "children": [
       "IPY_MODEL_cd3a7f9b9be14357aa00191dae38e0b9",
       "IPY_MODEL_7d1fef3478104ae487c7a432dc081736"
      ],
      "layout": "IPY_MODEL_aebcb301da774098a364ae64f9869ea9"
     }
    },
    "78d4fe6bb51840c9a5fe00cba869ba64": {
     "model_module": "@jupyter-widgets/controls",
     "model_name": "HTMLModel",
     "state": {
      "_dom_classes": [],
      "_model_module": "@jupyter-widgets/controls",
      "_model_module_version": "1.5.0",
      "_model_name": "HTMLModel",
      "_view_count": null,
      "_view_module": "@jupyter-widgets/controls",
      "_view_module_version": "1.5.0",
      "_view_name": "HTMLView",
      "description": "",
      "description_tooltip": null,
      "layout": "IPY_MODEL_f3c0a336b35545a6becae65f8f8ca8db",
      "placeholder": "​",
      "style": "IPY_MODEL_7b137c93ca9a48d684f87510c201ba13",
      "value": " 331M/331M [00:05&lt;00:00, 63.9MB/s]"
     }
    },
    "793c8c193c844f6d9eb92c540ad26de9": {
     "model_module": "@jupyter-widgets/base",
     "model_name": "LayoutModel",
     "state": {
      "_model_module": "@jupyter-widgets/base",
      "_model_module_version": "1.2.0",
      "_model_name": "LayoutModel",
      "_view_count": null,
      "_view_module": "@jupyter-widgets/base",
      "_view_module_version": "1.2.0",
      "_view_name": "LayoutView",
      "align_content": null,
      "align_items": null,
      "align_self": null,
      "border": null,
      "bottom": null,
      "display": null,
      "flex": null,
      "flex_flow": null,
      "grid_area": null,
      "grid_auto_columns": null,
      "grid_auto_flow": null,
      "grid_auto_rows": null,
      "grid_column": null,
      "grid_gap": null,
      "grid_row": null,
      "grid_template_areas": null,
      "grid_template_columns": null,
      "grid_template_rows": null,
      "height": null,
      "justify_content": null,
      "justify_items": null,
      "left": null,
      "margin": null,
      "max_height": null,
      "max_width": null,
      "min_height": null,
      "min_width": null,
      "object_fit": null,
      "object_position": null,
      "order": null,
      "overflow": null,
      "overflow_x": null,
      "overflow_y": null,
      "padding": null,
      "right": null,
      "top": null,
      "visibility": null,
      "width": null
     }
    },
    "7b137c93ca9a48d684f87510c201ba13": {
     "model_module": "@jupyter-widgets/controls",
     "model_name": "DescriptionStyleModel",
     "state": {
      "_model_module": "@jupyter-widgets/controls",
      "_model_module_version": "1.5.0",
      "_model_name": "DescriptionStyleModel",
      "_view_count": null,
      "_view_module": "@jupyter-widgets/base",
      "_view_module_version": "1.2.0",
      "_view_name": "StyleView",
      "description_width": ""
     }
    },
    "7b6d7fa8fcec43a29c259e033efefdeb": {
     "model_module": "@jupyter-widgets/base",
     "model_name": "LayoutModel",
     "state": {
      "_model_module": "@jupyter-widgets/base",
      "_model_module_version": "1.2.0",
      "_model_name": "LayoutModel",
      "_view_count": null,
      "_view_module": "@jupyter-widgets/base",
      "_view_module_version": "1.2.0",
      "_view_name": "LayoutView",
      "align_content": null,
      "align_items": null,
      "align_self": null,
      "border": null,
      "bottom": null,
      "display": null,
      "flex": null,
      "flex_flow": null,
      "grid_area": null,
      "grid_auto_columns": null,
      "grid_auto_flow": null,
      "grid_auto_rows": null,
      "grid_column": null,
      "grid_gap": null,
      "grid_row": null,
      "grid_template_areas": null,
      "grid_template_columns": null,
      "grid_template_rows": null,
      "height": null,
      "justify_content": null,
      "justify_items": null,
      "left": null,
      "margin": null,
      "max_height": null,
      "max_width": null,
      "min_height": null,
      "min_width": null,
      "object_fit": null,
      "object_position": null,
      "order": null,
      "overflow": null,
      "overflow_x": null,
      "overflow_y": null,
      "padding": null,
      "right": null,
      "top": null,
      "visibility": null,
      "width": null
     }
    },
    "7d1fef3478104ae487c7a432dc081736": {
     "model_module": "@jupyter-widgets/controls",
     "model_name": "HTMLModel",
     "state": {
      "_dom_classes": [],
      "_model_module": "@jupyter-widgets/controls",
      "_model_module_version": "1.5.0",
      "_model_name": "HTMLModel",
      "_view_count": null,
      "_view_module": "@jupyter-widgets/controls",
      "_view_module_version": "1.5.0",
      "_view_name": "HTMLView",
      "description": "",
      "description_tooltip": null,
      "layout": "IPY_MODEL_1907ea389f444d20973d9a4f59878831",
      "placeholder": "​",
      "style": "IPY_MODEL_bad13e326e6747fd945f37357a7203ba",
      "value": " 40/40 [03:59&lt;00:00,  5.99s/it]"
     }
    },
    "85c3fcea3936472ab188f80937e8ec69": {
     "model_module": "@jupyter-widgets/controls",
     "model_name": "HBoxModel",
     "state": {
      "_dom_classes": [],
      "_model_module": "@jupyter-widgets/controls",
      "_model_module_version": "1.5.0",
      "_model_name": "HBoxModel",
      "_view_count": null,
      "_view_module": "@jupyter-widgets/controls",
      "_view_module_version": "1.5.0",
      "_view_name": "HBoxView",
      "box_style": "",
      "children": [
       "IPY_MODEL_5d52e1a084634349a93a6fee295358d8",
       "IPY_MODEL_c8c5fed581b944519096225bb9155227"
      ],
      "layout": "IPY_MODEL_ec3a1c0544644fc887bde58f33c90e34"
     }
    },
    "8735e21144364751a63d890f7ee8af05": {
     "model_module": "@jupyter-widgets/controls",
     "model_name": "HTMLModel",
     "state": {
      "_dom_classes": [],
      "_model_module": "@jupyter-widgets/controls",
      "_model_module_version": "1.5.0",
      "_model_name": "HTMLModel",
      "_view_count": null,
      "_view_module": "@jupyter-widgets/controls",
      "_view_module_version": "1.5.0",
      "_view_name": "HTMLView",
      "description": "",
      "description_tooltip": null,
      "layout": "IPY_MODEL_6a03693e980f47c09c1a9f11bd31ba57",
      "placeholder": "​",
      "style": "IPY_MODEL_31f52a51623b43beb2690030d5cf59b7",
      "value": " 899k/899k [00:00&lt;00:00, 1.89MB/s]"
     }
    },
    "87cfe131dfbd4e3aaba83870e488ac81": {
     "model_module": "@jupyter-widgets/base",
     "model_name": "LayoutModel",
     "state": {
      "_model_module": "@jupyter-widgets/base",
      "_model_module_version": "1.2.0",
      "_model_name": "LayoutModel",
      "_view_count": null,
      "_view_module": "@jupyter-widgets/base",
      "_view_module_version": "1.2.0",
      "_view_name": "LayoutView",
      "align_content": null,
      "align_items": null,
      "align_self": null,
      "border": null,
      "bottom": null,
      "display": null,
      "flex": null,
      "flex_flow": null,
      "grid_area": null,
      "grid_auto_columns": null,
      "grid_auto_flow": null,
      "grid_auto_rows": null,
      "grid_column": null,
      "grid_gap": null,
      "grid_row": null,
      "grid_template_areas": null,
      "grid_template_columns": null,
      "grid_template_rows": null,
      "height": null,
      "justify_content": null,
      "justify_items": null,
      "left": null,
      "margin": null,
      "max_height": null,
      "max_width": null,
      "min_height": null,
      "min_width": null,
      "object_fit": null,
      "object_position": null,
      "order": null,
      "overflow": null,
      "overflow_x": null,
      "overflow_y": null,
      "padding": null,
      "right": null,
      "top": null,
      "visibility": null,
      "width": null
     }
    },
    "94cf83b739524510aa2e1323d5033a96": {
     "model_module": "@jupyter-widgets/controls",
     "model_name": "FloatProgressModel",
     "state": {
      "_dom_classes": [],
      "_model_module": "@jupyter-widgets/controls",
      "_model_module_version": "1.5.0",
      "_model_name": "FloatProgressModel",
      "_view_count": null,
      "_view_module": "@jupyter-widgets/controls",
      "_view_module_version": "1.5.0",
      "_view_name": "ProgressView",
      "bar_style": "success",
      "description": "Downloading: 100%",
      "description_tooltip": null,
      "layout": "IPY_MODEL_b2d469127188474cb56b4cf337e3a8ef",
      "max": 456318,
      "min": 0,
      "orientation": "horizontal",
      "style": "IPY_MODEL_115b6ea645414080bff5a4959c8e908f",
      "value": 456318
     }
    },
    "9a64511e3c7a4deebd887e6ffec0eb82": {
     "model_module": "@jupyter-widgets/controls",
     "model_name": "HBoxModel",
     "state": {
      "_dom_classes": [],
      "_model_module": "@jupyter-widgets/controls",
      "_model_module_version": "1.5.0",
      "_model_name": "HBoxModel",
      "_view_count": null,
      "_view_module": "@jupyter-widgets/controls",
      "_view_module_version": "1.5.0",
      "_view_name": "HBoxView",
      "box_style": "",
      "children": [
       "IPY_MODEL_94cf83b739524510aa2e1323d5033a96",
       "IPY_MODEL_b00a0cac21454efea73cf1d317d6b4c2"
      ],
      "layout": "IPY_MODEL_603cc88538da489ab46dba74afc5fda5"
     }
    },
    "9a942e50d1ae47dcb85ef3386d92d7a6": {
     "model_module": "@jupyter-widgets/base",
     "model_name": "LayoutModel",
     "state": {
      "_model_module": "@jupyter-widgets/base",
      "_model_module_version": "1.2.0",
      "_model_name": "LayoutModel",
      "_view_count": null,
      "_view_module": "@jupyter-widgets/base",
      "_view_module_version": "1.2.0",
      "_view_name": "LayoutView",
      "align_content": null,
      "align_items": null,
      "align_self": null,
      "border": null,
      "bottom": null,
      "display": null,
      "flex": null,
      "flex_flow": null,
      "grid_area": null,
      "grid_auto_columns": null,
      "grid_auto_flow": null,
      "grid_auto_rows": null,
      "grid_column": null,
      "grid_gap": null,
      "grid_row": null,
      "grid_template_areas": null,
      "grid_template_columns": null,
      "grid_template_rows": null,
      "height": null,
      "justify_content": null,
      "justify_items": null,
      "left": null,
      "margin": null,
      "max_height": null,
      "max_width": null,
      "min_height": null,
      "min_width": null,
      "object_fit": null,
      "object_position": null,
      "order": null,
      "overflow": null,
      "overflow_x": null,
      "overflow_y": null,
      "padding": null,
      "right": null,
      "top": null,
      "visibility": null,
      "width": null
     }
    },
    "9cc8f355115449289da10350980ac695": {
     "model_module": "@jupyter-widgets/controls",
     "model_name": "HTMLModel",
     "state": {
      "_dom_classes": [],
      "_model_module": "@jupyter-widgets/controls",
      "_model_module_version": "1.5.0",
      "_model_name": "HTMLModel",
      "_view_count": null,
      "_view_module": "@jupyter-widgets/controls",
      "_view_module_version": "1.5.0",
      "_view_name": "HTMLView",
      "description": "",
      "description_tooltip": null,
      "layout": "IPY_MODEL_793c8c193c844f6d9eb92c540ad26de9",
      "placeholder": "​",
      "style": "IPY_MODEL_c593afea9cbe4f9abf853649907d35f2",
      "value": " 632/632 [41:23&lt;00:00,  3.93s/it]"
     }
    },
    "a4e5b8089f7242b3af883379b83703a3": {
     "model_module": "@jupyter-widgets/base",
     "model_name": "LayoutModel",
     "state": {
      "_model_module": "@jupyter-widgets/base",
      "_model_module_version": "1.2.0",
      "_model_name": "LayoutModel",
      "_view_count": null,
      "_view_module": "@jupyter-widgets/base",
      "_view_module_version": "1.2.0",
      "_view_name": "LayoutView",
      "align_content": null,
      "align_items": null,
      "align_self": null,
      "border": null,
      "bottom": null,
      "display": null,
      "flex": null,
      "flex_flow": null,
      "grid_area": null,
      "grid_auto_columns": null,
      "grid_auto_flow": null,
      "grid_auto_rows": null,
      "grid_column": null,
      "grid_gap": null,
      "grid_row": null,
      "grid_template_areas": null,
      "grid_template_columns": null,
      "grid_template_rows": null,
      "height": null,
      "justify_content": null,
      "justify_items": null,
      "left": null,
      "margin": null,
      "max_height": null,
      "max_width": null,
      "min_height": null,
      "min_width": null,
      "object_fit": null,
      "object_position": null,
      "order": null,
      "overflow": null,
      "overflow_x": null,
      "overflow_y": null,
      "padding": null,
      "right": null,
      "top": null,
      "visibility": null,
      "width": null
     }
    },
    "a6016178b3794c8781055022e2615806": {
     "model_module": "@jupyter-widgets/controls",
     "model_name": "FloatProgressModel",
     "state": {
      "_dom_classes": [],
      "_model_module": "@jupyter-widgets/controls",
      "_model_module_version": "1.5.0",
      "_model_name": "FloatProgressModel",
      "_view_count": null,
      "_view_module": "@jupyter-widgets/controls",
      "_view_module_version": "1.5.0",
      "_view_name": "ProgressView",
      "bar_style": "success",
      "description": "Downloading: 100%",
      "description_tooltip": null,
      "layout": "IPY_MODEL_bc830aab8e364b8a8118f24b65318f7f",
      "max": 480,
      "min": 0,
      "orientation": "horizontal",
      "style": "IPY_MODEL_e3354fd110ba4044b83eb35e96c2499a",
      "value": 480
     }
    },
    "a94cafd104ca4858ad84489825c40110": {
     "model_module": "@jupyter-widgets/controls",
     "model_name": "ProgressStyleModel",
     "state": {
      "_model_module": "@jupyter-widgets/controls",
      "_model_module_version": "1.5.0",
      "_model_name": "ProgressStyleModel",
      "_view_count": null,
      "_view_module": "@jupyter-widgets/base",
      "_view_module_version": "1.2.0",
      "_view_name": "StyleView",
      "bar_color": null,
      "description_width": "initial"
     }
    },
    "a9e471610e914aabaf5493c3dcf1cdc9": {
     "model_module": "@jupyter-widgets/controls",
     "model_name": "HBoxModel",
     "state": {
      "_dom_classes": [],
      "_model_module": "@jupyter-widgets/controls",
      "_model_module_version": "1.5.0",
      "_model_name": "HBoxModel",
      "_view_count": null,
      "_view_module": "@jupyter-widgets/controls",
      "_view_module_version": "1.5.0",
      "_view_name": "HBoxView",
      "box_style": "",
      "children": [
       "IPY_MODEL_48f31cba8fe8496bb0f87be021dc1b4e",
       "IPY_MODEL_9cc8f355115449289da10350980ac695"
      ],
      "layout": "IPY_MODEL_1f52ed36987c408a95dde7f2494a4ac4"
     }
    },
    "aa3dd6ed24f544a7819799730b4679ed": {
     "model_module": "@jupyter-widgets/controls",
     "model_name": "ProgressStyleModel",
     "state": {
      "_model_module": "@jupyter-widgets/controls",
      "_model_module_version": "1.5.0",
      "_model_name": "ProgressStyleModel",
      "_view_count": null,
      "_view_module": "@jupyter-widgets/base",
      "_view_module_version": "1.2.0",
      "_view_name": "StyleView",
      "bar_color": null,
      "description_width": "initial"
     }
    },
    "ab43f64c78a14aecb8bfb23aff4d1e0b": {
     "model_module": "@jupyter-widgets/base",
     "model_name": "LayoutModel",
     "state": {
      "_model_module": "@jupyter-widgets/base",
      "_model_module_version": "1.2.0",
      "_model_name": "LayoutModel",
      "_view_count": null,
      "_view_module": "@jupyter-widgets/base",
      "_view_module_version": "1.2.0",
      "_view_name": "LayoutView",
      "align_content": null,
      "align_items": null,
      "align_self": null,
      "border": null,
      "bottom": null,
      "display": null,
      "flex": null,
      "flex_flow": null,
      "grid_area": null,
      "grid_auto_columns": null,
      "grid_auto_flow": null,
      "grid_auto_rows": null,
      "grid_column": null,
      "grid_gap": null,
      "grid_row": null,
      "grid_template_areas": null,
      "grid_template_columns": null,
      "grid_template_rows": null,
      "height": null,
      "justify_content": null,
      "justify_items": null,
      "left": null,
      "margin": null,
      "max_height": null,
      "max_width": null,
      "min_height": null,
      "min_width": null,
      "object_fit": null,
      "object_position": null,
      "order": null,
      "overflow": null,
      "overflow_x": null,
      "overflow_y": null,
      "padding": null,
      "right": null,
      "top": null,
      "visibility": null,
      "width": null
     }
    },
    "aebcb301da774098a364ae64f9869ea9": {
     "model_module": "@jupyter-widgets/base",
     "model_name": "LayoutModel",
     "state": {
      "_model_module": "@jupyter-widgets/base",
      "_model_module_version": "1.2.0",
      "_model_name": "LayoutModel",
      "_view_count": null,
      "_view_module": "@jupyter-widgets/base",
      "_view_module_version": "1.2.0",
      "_view_name": "LayoutView",
      "align_content": null,
      "align_items": null,
      "align_self": null,
      "border": null,
      "bottom": null,
      "display": null,
      "flex": null,
      "flex_flow": null,
      "grid_area": null,
      "grid_auto_columns": null,
      "grid_auto_flow": null,
      "grid_auto_rows": null,
      "grid_column": null,
      "grid_gap": null,
      "grid_row": null,
      "grid_template_areas": null,
      "grid_template_columns": null,
      "grid_template_rows": null,
      "height": null,
      "justify_content": null,
      "justify_items": null,
      "left": null,
      "margin": null,
      "max_height": null,
      "max_width": null,
      "min_height": null,
      "min_width": null,
      "object_fit": null,
      "object_position": null,
      "order": null,
      "overflow": null,
      "overflow_x": null,
      "overflow_y": null,
      "padding": null,
      "right": null,
      "top": null,
      "visibility": null,
      "width": null
     }
    },
    "b00a0cac21454efea73cf1d317d6b4c2": {
     "model_module": "@jupyter-widgets/controls",
     "model_name": "HTMLModel",
     "state": {
      "_dom_classes": [],
      "_model_module": "@jupyter-widgets/controls",
      "_model_module_version": "1.5.0",
      "_model_name": "HTMLModel",
      "_view_count": null,
      "_view_module": "@jupyter-widgets/controls",
      "_view_module_version": "1.5.0",
      "_view_name": "HTMLView",
      "description": "",
      "description_tooltip": null,
      "layout": "IPY_MODEL_9a942e50d1ae47dcb85ef3386d92d7a6",
      "placeholder": "​",
      "style": "IPY_MODEL_f9ad530c9efd4e43a7f20c4202f50938",
      "value": " 456k/456k [00:00&lt;00:00, 2.47MB/s]"
     }
    },
    "b11b79fb22f548a78fd031cc0e884ff8": {
     "model_module": "@jupyter-widgets/controls",
     "model_name": "ProgressStyleModel",
     "state": {
      "_model_module": "@jupyter-widgets/controls",
      "_model_module_version": "1.5.0",
      "_model_name": "ProgressStyleModel",
      "_view_count": null,
      "_view_module": "@jupyter-widgets/base",
      "_view_module_version": "1.2.0",
      "_view_name": "StyleView",
      "bar_color": null,
      "description_width": "initial"
     }
    },
    "b2d469127188474cb56b4cf337e3a8ef": {
     "model_module": "@jupyter-widgets/base",
     "model_name": "LayoutModel",
     "state": {
      "_model_module": "@jupyter-widgets/base",
      "_model_module_version": "1.2.0",
      "_model_name": "LayoutModel",
      "_view_count": null,
      "_view_module": "@jupyter-widgets/base",
      "_view_module_version": "1.2.0",
      "_view_name": "LayoutView",
      "align_content": null,
      "align_items": null,
      "align_self": null,
      "border": null,
      "bottom": null,
      "display": null,
      "flex": null,
      "flex_flow": null,
      "grid_area": null,
      "grid_auto_columns": null,
      "grid_auto_flow": null,
      "grid_auto_rows": null,
      "grid_column": null,
      "grid_gap": null,
      "grid_row": null,
      "grid_template_areas": null,
      "grid_template_columns": null,
      "grid_template_rows": null,
      "height": null,
      "justify_content": null,
      "justify_items": null,
      "left": null,
      "margin": null,
      "max_height": null,
      "max_width": null,
      "min_height": null,
      "min_width": null,
      "object_fit": null,
      "object_position": null,
      "order": null,
      "overflow": null,
      "overflow_x": null,
      "overflow_y": null,
      "padding": null,
      "right": null,
      "top": null,
      "visibility": null,
      "width": null
     }
    },
    "bad13e326e6747fd945f37357a7203ba": {
     "model_module": "@jupyter-widgets/controls",
     "model_name": "DescriptionStyleModel",
     "state": {
      "_model_module": "@jupyter-widgets/controls",
      "_model_module_version": "1.5.0",
      "_model_name": "DescriptionStyleModel",
      "_view_count": null,
      "_view_module": "@jupyter-widgets/base",
      "_view_module_version": "1.2.0",
      "_view_name": "StyleView",
      "description_width": ""
     }
    },
    "bc1eda86746d4aa6a0c6d29a1819ed5a": {
     "model_module": "@jupyter-widgets/base",
     "model_name": "LayoutModel",
     "state": {
      "_model_module": "@jupyter-widgets/base",
      "_model_module_version": "1.2.0",
      "_model_name": "LayoutModel",
      "_view_count": null,
      "_view_module": "@jupyter-widgets/base",
      "_view_module_version": "1.2.0",
      "_view_name": "LayoutView",
      "align_content": null,
      "align_items": null,
      "align_self": null,
      "border": null,
      "bottom": null,
      "display": null,
      "flex": null,
      "flex_flow": null,
      "grid_area": null,
      "grid_auto_columns": null,
      "grid_auto_flow": null,
      "grid_auto_rows": null,
      "grid_column": null,
      "grid_gap": null,
      "grid_row": null,
      "grid_template_areas": null,
      "grid_template_columns": null,
      "grid_template_rows": null,
      "height": null,
      "justify_content": null,
      "justify_items": null,
      "left": null,
      "margin": null,
      "max_height": null,
      "max_width": null,
      "min_height": null,
      "min_width": null,
      "object_fit": null,
      "object_position": null,
      "order": null,
      "overflow": null,
      "overflow_x": null,
      "overflow_y": null,
      "padding": null,
      "right": null,
      "top": null,
      "visibility": null,
      "width": null
     }
    },
    "bc830aab8e364b8a8118f24b65318f7f": {
     "model_module": "@jupyter-widgets/base",
     "model_name": "LayoutModel",
     "state": {
      "_model_module": "@jupyter-widgets/base",
      "_model_module_version": "1.2.0",
      "_model_name": "LayoutModel",
      "_view_count": null,
      "_view_module": "@jupyter-widgets/base",
      "_view_module_version": "1.2.0",
      "_view_name": "LayoutView",
      "align_content": null,
      "align_items": null,
      "align_self": null,
      "border": null,
      "bottom": null,
      "display": null,
      "flex": null,
      "flex_flow": null,
      "grid_area": null,
      "grid_auto_columns": null,
      "grid_auto_flow": null,
      "grid_auto_rows": null,
      "grid_column": null,
      "grid_gap": null,
      "grid_row": null,
      "grid_template_areas": null,
      "grid_template_columns": null,
      "grid_template_rows": null,
      "height": null,
      "justify_content": null,
      "justify_items": null,
      "left": null,
      "margin": null,
      "max_height": null,
      "max_width": null,
      "min_height": null,
      "min_width": null,
      "object_fit": null,
      "object_position": null,
      "order": null,
      "overflow": null,
      "overflow_x": null,
      "overflow_y": null,
      "padding": null,
      "right": null,
      "top": null,
      "visibility": null,
      "width": null
     }
    },
    "c0e7e1c7581648b3b0c98bcf425c77af": {
     "model_module": "@jupyter-widgets/base",
     "model_name": "LayoutModel",
     "state": {
      "_model_module": "@jupyter-widgets/base",
      "_model_module_version": "1.2.0",
      "_model_name": "LayoutModel",
      "_view_count": null,
      "_view_module": "@jupyter-widgets/base",
      "_view_module_version": "1.2.0",
      "_view_name": "LayoutView",
      "align_content": null,
      "align_items": null,
      "align_self": null,
      "border": null,
      "bottom": null,
      "display": null,
      "flex": null,
      "flex_flow": null,
      "grid_area": null,
      "grid_auto_columns": null,
      "grid_auto_flow": null,
      "grid_auto_rows": null,
      "grid_column": null,
      "grid_gap": null,
      "grid_row": null,
      "grid_template_areas": null,
      "grid_template_columns": null,
      "grid_template_rows": null,
      "height": null,
      "justify_content": null,
      "justify_items": null,
      "left": null,
      "margin": null,
      "max_height": null,
      "max_width": null,
      "min_height": null,
      "min_width": null,
      "object_fit": null,
      "object_position": null,
      "order": null,
      "overflow": null,
      "overflow_x": null,
      "overflow_y": null,
      "padding": null,
      "right": null,
      "top": null,
      "visibility": null,
      "width": null
     }
    },
    "c593afea9cbe4f9abf853649907d35f2": {
     "model_module": "@jupyter-widgets/controls",
     "model_name": "DescriptionStyleModel",
     "state": {
      "_model_module": "@jupyter-widgets/controls",
      "_model_module_version": "1.5.0",
      "_model_name": "DescriptionStyleModel",
      "_view_count": null,
      "_view_module": "@jupyter-widgets/base",
      "_view_module_version": "1.2.0",
      "_view_name": "StyleView",
      "description_width": ""
     }
    },
    "c626911b5ca041388f077e45141bc526": {
     "model_module": "@jupyter-widgets/controls",
     "model_name": "ProgressStyleModel",
     "state": {
      "_model_module": "@jupyter-widgets/controls",
      "_model_module_version": "1.5.0",
      "_model_name": "ProgressStyleModel",
      "_view_count": null,
      "_view_module": "@jupyter-widgets/base",
      "_view_module_version": "1.2.0",
      "_view_name": "StyleView",
      "bar_color": null,
      "description_width": "initial"
     }
    },
    "c67ce32162f0481dbae7012d1eabb5ba": {
     "model_module": "@jupyter-widgets/controls",
     "model_name": "HBoxModel",
     "state": {
      "_dom_classes": [],
      "_model_module": "@jupyter-widgets/controls",
      "_model_module_version": "1.5.0",
      "_model_name": "HBoxModel",
      "_view_count": null,
      "_view_module": "@jupyter-widgets/controls",
      "_view_module_version": "1.5.0",
      "_view_name": "HBoxView",
      "box_style": "",
      "children": [
       "IPY_MODEL_1d6fa8c71e9a48a292cddb71d0010156",
       "IPY_MODEL_fc828299e53f49ceb57b92b00507913d"
      ],
      "layout": "IPY_MODEL_ce95c805958e4f03a62b75560c62012e"
     }
    },
    "c8c5fed581b944519096225bb9155227": {
     "model_module": "@jupyter-widgets/controls",
     "model_name": "HTMLModel",
     "state": {
      "_dom_classes": [],
      "_model_module": "@jupyter-widgets/controls",
      "_model_module_version": "1.5.0",
      "_model_name": "HTMLModel",
      "_view_count": null,
      "_view_module": "@jupyter-widgets/controls",
      "_view_module_version": "1.5.0",
      "_view_name": "HTMLView",
      "description": "",
      "description_tooltip": null,
      "layout": "IPY_MODEL_d01d3270a67640b6a1ebc0a85e1b130f",
      "placeholder": "​",
      "style": "IPY_MODEL_22969e33e1284a8999f87f1b82c7578a",
      "value": " 317/317 [03:59&lt;00:00,  1.32it/s]"
     }
    },
    "c96f9bbeb3544c7f902f78ab52dce693": {
     "model_module": "@jupyter-widgets/base",
     "model_name": "LayoutModel",
     "state": {
      "_model_module": "@jupyter-widgets/base",
      "_model_module_version": "1.2.0",
      "_model_name": "LayoutModel",
      "_view_count": null,
      "_view_module": "@jupyter-widgets/base",
      "_view_module_version": "1.2.0",
      "_view_name": "LayoutView",
      "align_content": null,
      "align_items": null,
      "align_self": null,
      "border": null,
      "bottom": null,
      "display": null,
      "flex": null,
      "flex_flow": null,
      "grid_area": null,
      "grid_auto_columns": null,
      "grid_auto_flow": null,
      "grid_auto_rows": null,
      "grid_column": null,
      "grid_gap": null,
      "grid_row": null,
      "grid_template_areas": null,
      "grid_template_columns": null,
      "grid_template_rows": null,
      "height": null,
      "justify_content": null,
      "justify_items": null,
      "left": null,
      "margin": null,
      "max_height": null,
      "max_width": null,
      "min_height": null,
      "min_width": null,
      "object_fit": null,
      "object_position": null,
      "order": null,
      "overflow": null,
      "overflow_x": null,
      "overflow_y": null,
      "padding": null,
      "right": null,
      "top": null,
      "visibility": null,
      "width": null
     }
    },
    "ca86b03b076c4dfe865f656fd8b8a671": {
     "model_module": "@jupyter-widgets/base",
     "model_name": "LayoutModel",
     "state": {
      "_model_module": "@jupyter-widgets/base",
      "_model_module_version": "1.2.0",
      "_model_name": "LayoutModel",
      "_view_count": null,
      "_view_module": "@jupyter-widgets/base",
      "_view_module_version": "1.2.0",
      "_view_name": "LayoutView",
      "align_content": null,
      "align_items": null,
      "align_self": null,
      "border": null,
      "bottom": null,
      "display": null,
      "flex": null,
      "flex_flow": null,
      "grid_area": null,
      "grid_auto_columns": null,
      "grid_auto_flow": null,
      "grid_auto_rows": null,
      "grid_column": null,
      "grid_gap": null,
      "grid_row": null,
      "grid_template_areas": null,
      "grid_template_columns": null,
      "grid_template_rows": null,
      "height": null,
      "justify_content": null,
      "justify_items": null,
      "left": null,
      "margin": null,
      "max_height": null,
      "max_width": null,
      "min_height": null,
      "min_width": null,
      "object_fit": null,
      "object_position": null,
      "order": null,
      "overflow": null,
      "overflow_x": null,
      "overflow_y": null,
      "padding": null,
      "right": null,
      "top": null,
      "visibility": null,
      "width": null
     }
    },
    "cd3a7f9b9be14357aa00191dae38e0b9": {
     "model_module": "@jupyter-widgets/controls",
     "model_name": "FloatProgressModel",
     "state": {
      "_dom_classes": [],
      "_model_module": "@jupyter-widgets/controls",
      "_model_module_version": "1.5.0",
      "_model_name": "FloatProgressModel",
      "_view_count": null,
      "_view_module": "@jupyter-widgets/controls",
      "_view_module_version": "1.5.0",
      "_view_name": "ProgressView",
      "bar_style": "success",
      "description": "100%",
      "description_tooltip": null,
      "layout": "IPY_MODEL_7b6d7fa8fcec43a29c259e033efefdeb",
      "max": 40,
      "min": 0,
      "orientation": "horizontal",
      "style": "IPY_MODEL_397161162ad345e2af8adb543cea0434",
      "value": 40
     }
    },
    "ce95c805958e4f03a62b75560c62012e": {
     "model_module": "@jupyter-widgets/base",
     "model_name": "LayoutModel",
     "state": {
      "_model_module": "@jupyter-widgets/base",
      "_model_module_version": "1.2.0",
      "_model_name": "LayoutModel",
      "_view_count": null,
      "_view_module": "@jupyter-widgets/base",
      "_view_module_version": "1.2.0",
      "_view_name": "LayoutView",
      "align_content": null,
      "align_items": null,
      "align_self": null,
      "border": null,
      "bottom": null,
      "display": null,
      "flex": null,
      "flex_flow": null,
      "grid_area": null,
      "grid_auto_columns": null,
      "grid_auto_flow": null,
      "grid_auto_rows": null,
      "grid_column": null,
      "grid_gap": null,
      "grid_row": null,
      "grid_template_areas": null,
      "grid_template_columns": null,
      "grid_template_rows": null,
      "height": null,
      "justify_content": null,
      "justify_items": null,
      "left": null,
      "margin": null,
      "max_height": null,
      "max_width": null,
      "min_height": null,
      "min_width": null,
      "object_fit": null,
      "object_position": null,
      "order": null,
      "overflow": null,
      "overflow_x": null,
      "overflow_y": null,
      "padding": null,
      "right": null,
      "top": null,
      "visibility": null,
      "width": null
     }
    },
    "d01d3270a67640b6a1ebc0a85e1b130f": {
     "model_module": "@jupyter-widgets/base",
     "model_name": "LayoutModel",
     "state": {
      "_model_module": "@jupyter-widgets/base",
      "_model_module_version": "1.2.0",
      "_model_name": "LayoutModel",
      "_view_count": null,
      "_view_module": "@jupyter-widgets/base",
      "_view_module_version": "1.2.0",
      "_view_name": "LayoutView",
      "align_content": null,
      "align_items": null,
      "align_self": null,
      "border": null,
      "bottom": null,
      "display": null,
      "flex": null,
      "flex_flow": null,
      "grid_area": null,
      "grid_auto_columns": null,
      "grid_auto_flow": null,
      "grid_auto_rows": null,
      "grid_column": null,
      "grid_gap": null,
      "grid_row": null,
      "grid_template_areas": null,
      "grid_template_columns": null,
      "grid_template_rows": null,
      "height": null,
      "justify_content": null,
      "justify_items": null,
      "left": null,
      "margin": null,
      "max_height": null,
      "max_width": null,
      "min_height": null,
      "min_width": null,
      "object_fit": null,
      "object_position": null,
      "order": null,
      "overflow": null,
      "overflow_x": null,
      "overflow_y": null,
      "padding": null,
      "right": null,
      "top": null,
      "visibility": null,
      "width": null
     }
    },
    "d40c1cbb202a47b7b88908691a1cd612": {
     "model_module": "@jupyter-widgets/controls",
     "model_name": "HBoxModel",
     "state": {
      "_dom_classes": [],
      "_model_module": "@jupyter-widgets/controls",
      "_model_module_version": "1.5.0",
      "_model_name": "HBoxModel",
      "_view_count": null,
      "_view_module": "@jupyter-widgets/controls",
      "_view_module_version": "1.5.0",
      "_view_name": "HBoxView",
      "box_style": "",
      "children": [
       "IPY_MODEL_3cec44f1524b40c2be04a0da0f182c6b",
       "IPY_MODEL_8735e21144364751a63d890f7ee8af05"
      ],
      "layout": "IPY_MODEL_dfd23f2747ba41ffb150063545f3f55e"
     }
    },
    "d492bc24a6c2433186faed16e5ab3e4d": {
     "model_module": "@jupyter-widgets/controls",
     "model_name": "HTMLModel",
     "state": {
      "_dom_classes": [],
      "_model_module": "@jupyter-widgets/controls",
      "_model_module_version": "1.5.0",
      "_model_name": "HTMLModel",
      "_view_count": null,
      "_view_module": "@jupyter-widgets/controls",
      "_view_module_version": "1.5.0",
      "_view_name": "HTMLView",
      "description": "",
      "description_tooltip": null,
      "layout": "IPY_MODEL_68aa00fbc1be4cbd92ccbcb894c4f8e3",
      "placeholder": "​",
      "style": "IPY_MODEL_45d2f7e610364b06ba1f5264f13b785c",
      "value": " 480/480 [00:00&lt;00:00, 1.24kB/s]"
     }
    },
    "dfd23f2747ba41ffb150063545f3f55e": {
     "model_module": "@jupyter-widgets/base",
     "model_name": "LayoutModel",
     "state": {
      "_model_module": "@jupyter-widgets/base",
      "_model_module_version": "1.2.0",
      "_model_name": "LayoutModel",
      "_view_count": null,
      "_view_module": "@jupyter-widgets/base",
      "_view_module_version": "1.2.0",
      "_view_name": "LayoutView",
      "align_content": null,
      "align_items": null,
      "align_self": null,
      "border": null,
      "bottom": null,
      "display": null,
      "flex": null,
      "flex_flow": null,
      "grid_area": null,
      "grid_auto_columns": null,
      "grid_auto_flow": null,
      "grid_auto_rows": null,
      "grid_column": null,
      "grid_gap": null,
      "grid_row": null,
      "grid_template_areas": null,
      "grid_template_columns": null,
      "grid_template_rows": null,
      "height": null,
      "justify_content": null,
      "justify_items": null,
      "left": null,
      "margin": null,
      "max_height": null,
      "max_width": null,
      "min_height": null,
      "min_width": null,
      "object_fit": null,
      "object_position": null,
      "order": null,
      "overflow": null,
      "overflow_x": null,
      "overflow_y": null,
      "padding": null,
      "right": null,
      "top": null,
      "visibility": null,
      "width": null
     }
    },
    "e3354fd110ba4044b83eb35e96c2499a": {
     "model_module": "@jupyter-widgets/controls",
     "model_name": "ProgressStyleModel",
     "state": {
      "_model_module": "@jupyter-widgets/controls",
      "_model_module_version": "1.5.0",
      "_model_name": "ProgressStyleModel",
      "_view_count": null,
      "_view_module": "@jupyter-widgets/base",
      "_view_module_version": "1.2.0",
      "_view_name": "StyleView",
      "bar_color": null,
      "description_width": "initial"
     }
    },
    "e6186fe88bd848e0bd885e8fac4e7592": {
     "model_module": "@jupyter-widgets/controls",
     "model_name": "ProgressStyleModel",
     "state": {
      "_model_module": "@jupyter-widgets/controls",
      "_model_module_version": "1.5.0",
      "_model_name": "ProgressStyleModel",
      "_view_count": null,
      "_view_module": "@jupyter-widgets/base",
      "_view_module_version": "1.2.0",
      "_view_name": "StyleView",
      "bar_color": null,
      "description_width": "initial"
     }
    },
    "e6aafa4615c5428cb6e917295351b6cc": {
     "model_module": "@jupyter-widgets/base",
     "model_name": "LayoutModel",
     "state": {
      "_model_module": "@jupyter-widgets/base",
      "_model_module_version": "1.2.0",
      "_model_name": "LayoutModel",
      "_view_count": null,
      "_view_module": "@jupyter-widgets/base",
      "_view_module_version": "1.2.0",
      "_view_name": "LayoutView",
      "align_content": null,
      "align_items": null,
      "align_self": null,
      "border": null,
      "bottom": null,
      "display": null,
      "flex": null,
      "flex_flow": null,
      "grid_area": null,
      "grid_auto_columns": null,
      "grid_auto_flow": null,
      "grid_auto_rows": null,
      "grid_column": null,
      "grid_gap": null,
      "grid_row": null,
      "grid_template_areas": null,
      "grid_template_columns": null,
      "grid_template_rows": null,
      "height": null,
      "justify_content": null,
      "justify_items": null,
      "left": null,
      "margin": null,
      "max_height": null,
      "max_width": null,
      "min_height": null,
      "min_width": null,
      "object_fit": null,
      "object_position": null,
      "order": null,
      "overflow": null,
      "overflow_x": null,
      "overflow_y": null,
      "padding": null,
      "right": null,
      "top": null,
      "visibility": null,
      "width": null
     }
    },
    "ec3a1c0544644fc887bde58f33c90e34": {
     "model_module": "@jupyter-widgets/base",
     "model_name": "LayoutModel",
     "state": {
      "_model_module": "@jupyter-widgets/base",
      "_model_module_version": "1.2.0",
      "_model_name": "LayoutModel",
      "_view_count": null,
      "_view_module": "@jupyter-widgets/base",
      "_view_module_version": "1.2.0",
      "_view_name": "LayoutView",
      "align_content": null,
      "align_items": null,
      "align_self": null,
      "border": null,
      "bottom": null,
      "display": null,
      "flex": null,
      "flex_flow": null,
      "grid_area": null,
      "grid_auto_columns": null,
      "grid_auto_flow": null,
      "grid_auto_rows": null,
      "grid_column": null,
      "grid_gap": null,
      "grid_row": null,
      "grid_template_areas": null,
      "grid_template_columns": null,
      "grid_template_rows": null,
      "height": null,
      "justify_content": null,
      "justify_items": null,
      "left": null,
      "margin": null,
      "max_height": null,
      "max_width": null,
      "min_height": null,
      "min_width": null,
      "object_fit": null,
      "object_position": null,
      "order": null,
      "overflow": null,
      "overflow_x": null,
      "overflow_y": null,
      "padding": null,
      "right": null,
      "top": null,
      "visibility": null,
      "width": null
     }
    },
    "f3c0a336b35545a6becae65f8f8ca8db": {
     "model_module": "@jupyter-widgets/base",
     "model_name": "LayoutModel",
     "state": {
      "_model_module": "@jupyter-widgets/base",
      "_model_module_version": "1.2.0",
      "_model_name": "LayoutModel",
      "_view_count": null,
      "_view_module": "@jupyter-widgets/base",
      "_view_module_version": "1.2.0",
      "_view_name": "LayoutView",
      "align_content": null,
      "align_items": null,
      "align_self": null,
      "border": null,
      "bottom": null,
      "display": null,
      "flex": null,
      "flex_flow": null,
      "grid_area": null,
      "grid_auto_columns": null,
      "grid_auto_flow": null,
      "grid_auto_rows": null,
      "grid_column": null,
      "grid_gap": null,
      "grid_row": null,
      "grid_template_areas": null,
      "grid_template_columns": null,
      "grid_template_rows": null,
      "height": null,
      "justify_content": null,
      "justify_items": null,
      "left": null,
      "margin": null,
      "max_height": null,
      "max_width": null,
      "min_height": null,
      "min_width": null,
      "object_fit": null,
      "object_position": null,
      "order": null,
      "overflow": null,
      "overflow_x": null,
      "overflow_y": null,
      "padding": null,
      "right": null,
      "top": null,
      "visibility": null,
      "width": null
     }
    },
    "f9ad530c9efd4e43a7f20c4202f50938": {
     "model_module": "@jupyter-widgets/controls",
     "model_name": "DescriptionStyleModel",
     "state": {
      "_model_module": "@jupyter-widgets/controls",
      "_model_module_version": "1.5.0",
      "_model_name": "DescriptionStyleModel",
      "_view_count": null,
      "_view_module": "@jupyter-widgets/base",
      "_view_module_version": "1.2.0",
      "_view_name": "StyleView",
      "description_width": ""
     }
    },
    "fb3de4234b0d4da88595e035f2897934": {
     "model_module": "@jupyter-widgets/base",
     "model_name": "LayoutModel",
     "state": {
      "_model_module": "@jupyter-widgets/base",
      "_model_module_version": "1.2.0",
      "_model_name": "LayoutModel",
      "_view_count": null,
      "_view_module": "@jupyter-widgets/base",
      "_view_module_version": "1.2.0",
      "_view_name": "LayoutView",
      "align_content": null,
      "align_items": null,
      "align_self": null,
      "border": null,
      "bottom": null,
      "display": null,
      "flex": null,
      "flex_flow": null,
      "grid_area": null,
      "grid_auto_columns": null,
      "grid_auto_flow": null,
      "grid_auto_rows": null,
      "grid_column": null,
      "grid_gap": null,
      "grid_row": null,
      "grid_template_areas": null,
      "grid_template_columns": null,
      "grid_template_rows": null,
      "height": null,
      "justify_content": null,
      "justify_items": null,
      "left": null,
      "margin": null,
      "max_height": null,
      "max_width": null,
      "min_height": null,
      "min_width": null,
      "object_fit": null,
      "object_position": null,
      "order": null,
      "overflow": null,
      "overflow_x": null,
      "overflow_y": null,
      "padding": null,
      "right": null,
      "top": null,
      "visibility": null,
      "width": null
     }
    },
    "fc828299e53f49ceb57b92b00507913d": {
     "model_module": "@jupyter-widgets/controls",
     "model_name": "HTMLModel",
     "state": {
      "_dom_classes": [],
      "_model_module": "@jupyter-widgets/controls",
      "_model_module_version": "1.5.0",
      "_model_name": "HTMLModel",
      "_view_count": null,
      "_view_module": "@jupyter-widgets/controls",
      "_view_module_version": "1.5.0",
      "_view_name": "HTMLView",
      "description": "",
      "description_tooltip": null,
      "layout": "IPY_MODEL_bc1eda86746d4aa6a0c6d29a1819ed5a",
      "placeholder": "​",
      "style": "IPY_MODEL_2a3f99176f7d4029932e744c6d926a4d",
      "value": " 1/1 [41:26&lt;00:00, 2486.69s/it]"
     }
    },
    "fdd1656369944bc78126f3b86aa6482f": {
     "model_module": "@jupyter-widgets/base",
     "model_name": "LayoutModel",
     "state": {
      "_model_module": "@jupyter-widgets/base",
      "_model_module_version": "1.2.0",
      "_model_name": "LayoutModel",
      "_view_count": null,
      "_view_module": "@jupyter-widgets/base",
      "_view_module_version": "1.2.0",
      "_view_name": "LayoutView",
      "align_content": null,
      "align_items": null,
      "align_self": null,
      "border": null,
      "bottom": null,
      "display": null,
      "flex": null,
      "flex_flow": null,
      "grid_area": null,
      "grid_auto_columns": null,
      "grid_auto_flow": null,
      "grid_auto_rows": null,
      "grid_column": null,
      "grid_gap": null,
      "grid_row": null,
      "grid_template_areas": null,
      "grid_template_columns": null,
      "grid_template_rows": null,
      "height": null,
      "justify_content": null,
      "justify_items": null,
      "left": null,
      "margin": null,
      "max_height": null,
      "max_width": null,
      "min_height": null,
      "min_width": null,
      "object_fit": null,
      "object_position": null,
      "order": null,
      "overflow": null,
      "overflow_x": null,
      "overflow_y": null,
      "padding": null,
      "right": null,
      "top": null,
      "visibility": null,
      "width": null
     }
    }
   }
  }
 },
 "nbformat": 4,
 "nbformat_minor": 1
}
